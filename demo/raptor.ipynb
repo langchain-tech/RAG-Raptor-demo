{
 "cells": [
  {
   "cell_type": "code",
   "execution_count": 2,
   "metadata": {},
   "outputs": [
    {
     "data": {
      "text/plain": [
       "True"
      ]
     },
     "execution_count": 2,
     "metadata": {},
     "output_type": "execute_result"
    }
   ],
   "source": [
    "import os\n",
    "import uuid\n",
    "import umap\n",
    "import base64\n",
    "import tiktoken\n",
    "import re\n",
    "import numpy as np\n",
    "import pandas as pd\n",
    "import matplotlib.pyplot as plt\n",
    "from langchain_openai import ChatOpenAI\n",
    "from sklearn.mixture import GaussianMixture\n",
    "from langchain.prompts import PromptTemplate\n",
    "from langchain_openai import OpenAIEmbeddings\n",
    "from langchain.schema.document import Document\n",
    "from typing import Dict, List, Optional, Tuple\n",
    "from langchain.prompts import ChatPromptTemplate\n",
    "from unstructured.partition.pdf import partition_pdf\n",
    "from langchain_postgres.vectorstores import PGVector\n",
    "from langchain_core.output_parsers import StrOutputParser\n",
    "from langchain.schema.messages import HumanMessage, SystemMessage\n",
    "\n",
    "from dotenv import load_dotenv\n",
    "load_dotenv()"
   ]
  },
  {
   "cell_type": "code",
   "execution_count": 3,
   "metadata": {},
   "outputs": [],
   "source": [
    "import os\n",
    "from unstructured.partition.pdf import partition_pdf"
   ]
  },
  {
   "cell_type": "code",
   "execution_count": 4,
   "metadata": {},
   "outputs": [],
   "source": [
    "openai_api_key = os.getenv(\"OPENAI_API_KEY\")\n",
    "POSTGRES_URL_EMBEDDINDS=os.getenv(\"POSTGRES_URL_EMBEDDINDS\")\n",
    "PINECONE_API_KEY=os.getenv(\"PINECONE_API_KEY\")"
   ]
  },
  {
   "cell_type": "code",
   "execution_count": 5,
   "metadata": {},
   "outputs": [],
   "source": [
    "root_path = os.path.abspath(os.path.join(os.getcwd(), '..'))\n",
    "filename = os.path.join(root_path, \"data/fy2024.pdf\")\n",
    "output_path = os.path.join(root_path, \"data/images\")"
   ]
  },
  {
   "cell_type": "code",
   "execution_count": 6,
   "metadata": {},
   "outputs": [
    {
     "ename": "NameError",
     "evalue": "name 'OpenAIEmbeddings' is not defined",
     "output_type": "error",
     "traceback": [
      "\u001b[0;31m---------------------------------------------------------------------------\u001b[0m",
      "\u001b[0;31mNameError\u001b[0m                                 Traceback (most recent call last)",
      "Cell \u001b[0;32mIn[6], line 1\u001b[0m\n\u001b[0;32m----> 1\u001b[0m embd \u001b[38;5;241m=\u001b[39m \u001b[43mOpenAIEmbeddings\u001b[49m()\n\u001b[1;32m      2\u001b[0m model \u001b[38;5;241m=\u001b[39m ChatOpenAI(temperature\u001b[38;5;241m=\u001b[39m\u001b[38;5;241m0\u001b[39m, model\u001b[38;5;241m=\u001b[39m\u001b[38;5;124m\"\u001b[39m\u001b[38;5;124mgpt-4o\u001b[39m\u001b[38;5;124m\"\u001b[39m)\n",
      "\u001b[0;31mNameError\u001b[0m: name 'OpenAIEmbeddings' is not defined"
     ]
    }
   ],
   "source": [
    "embd = OpenAIEmbeddings()\n",
    "model = ChatOpenAI(temperature=0, model=\"gpt-4o\")"
   ]
  },
  {
   "cell_type": "code",
   "execution_count": null,
   "metadata": {},
   "outputs": [],
   "source": []
  },
  {
   "cell_type": "code",
   "execution_count": 7,
   "metadata": {},
   "outputs": [],
   "source": [
    "def file_reader():\n",
    "    raw_pdf_elements = partition_pdf(\n",
    "        filename=filename,\n",
    "        extract_images_in_pdf=True,\n",
    "        infer_table_structure=True,\n",
    "        chunking_strategy=\"by_title\",\n",
    "        max_characters=2000,\n",
    "        new_after_n_chars=1500,\n",
    "        extract_image_block_output_dir=output_path,\n",
    "    )\n",
    "    return raw_pdf_elements"
   ]
  },
  {
   "cell_type": "code",
   "execution_count": 8,
   "metadata": {},
   "outputs": [
    {
     "name": "stderr",
     "output_type": "stream",
     "text": [
      "Some weights of the model checkpoint at microsoft/table-transformer-structure-recognition were not used when initializing TableTransformerForObjectDetection: ['model.backbone.conv_encoder.model.layer2.0.downsample.1.num_batches_tracked', 'model.backbone.conv_encoder.model.layer3.0.downsample.1.num_batches_tracked', 'model.backbone.conv_encoder.model.layer4.0.downsample.1.num_batches_tracked']\n",
      "- This IS expected if you are initializing TableTransformerForObjectDetection from the checkpoint of a model trained on another task or with another architecture (e.g. initializing a BertForSequenceClassification model from a BertForPreTraining model).\n",
      "- This IS NOT expected if you are initializing TableTransformerForObjectDetection from the checkpoint of a model that you expect to be exactly identical (initializing a BertForSequenceClassification model from a BertForSequenceClassification model).\n"
     ]
    }
   ],
   "source": [
    "raw_pdf_elements=file_reader()"
   ]
  },
  {
   "cell_type": "code",
   "execution_count": 9,
   "metadata": {},
   "outputs": [
    {
     "data": {
      "text/plain": [
       "{'type': 'Table',\n",
       " 'element_id': 'bd227f10be9796d077de1a4dd421b7e6',\n",
       " 'text': 'Actual Budget Adopted Projected 2021-22 2022-23 2023-24 2024-25 Personnel Costs $ 263,671,357 $ 292,444,890 $ 323,473,728 $ 336,543,344 Maintenance & Operations 313,411,029 371,734,791 405,152,078 415,447,495 Capital Outlay 12,718,236 24,750,870 22,771,021 20,580,000 Total Net Expenditures $ 589,800,622 $ 688,930,551 $ 751,341,324 $ 772,515,336',\n",
       " 'metadata': {'last_modified': '2024-07-09T12:21:18',\n",
       "  'text_as_html': '<table><thead><tr><th></th><th></th><th></th><th>Actual</th><th></th><th>Budget</th><th></th><th>Adopted</th><th></th><th>Projected</th></tr><tr><th></th><th></th><th></th><th>2021-22</th><th></th><th>2022-23</th><th></th><th>2023-24</th><th></th><th>2024-25</th></tr></thead><tbody><tr><td>Personnel Costs</td><td></td><td>$</td><td>263,671,357</td><td>$</td><td>292,444,890</td><td>$</td><td>323,473,728</td><td>$</td><td>336,543,344</td></tr><tr><td>Maintenance &amp; Operations</td><td></td><td></td><td>313,411,029</td><td></td><td>371,734,791</td><td></td><td>405,152,078</td><td></td><td>415,447,495</td></tr><tr><td>Capital Outlay</td><td></td><td></td><td>12,718,236</td><td></td><td>24,750,870</td><td></td><td>22,771,021</td><td></td><td>20,580,000</td></tr><tr><td></td><td>Total Net Expenditures</td><td>$</td><td>589,800,622</td><td>$</td><td>688,930,551</td><td>$</td><td>751,341,324</td><td>$</td><td>772,515,336</td></tr></tbody></table>',\n",
       "  'filetype': 'application/pdf',\n",
       "  'languages': ['eng'],\n",
       "  'page_number': 2,\n",
       "  'orig_elements': 'eJyFVF1v2jAU/StWVO3JAdux46SrkLZqj12RxhuqIhMbyBSSKDFaUdX/vusQSFqs7QHwPccX349z7/otMKU5mMpmhQ7uUcCSWFCR61AxEYc8ieGk800YbYWQIo1ZLLYBRsHBWKWVVeDzFuR13eqiUtZ0vV2qU3202d4Uu70FhDFCwGeA/xTa7gGlskebuqis81uvKZczgGJKZ+QFo4udsnSwIYZZ6gHOHoAE3amz5uAyWRavpvzVqNwE70BoY01ui7rK8lJ1Xda09QaukVlKJQN+W5TGnhrTuy6fgj7eandUuz6pdWCqXfDSo53NDrUutoU5l4wwHhIZknRF2T2j9zRx3g14ZtXxsDGtKwEg1rzaTHXZ3h5K5/hg1aY0iwe7N0rDT+uOi4e5+/IevuX2qMpb/PtR74z13Nd1Y42+JZZt/RuqcaHm/dP/fR4SpSFjXoKFLPISUci4l+AhE5Pn55cqbGp9GqLRi6Vpu7qqTIke6852cEv3+PVwdz2xOMKxpDgS0semDHPOcZISDxuxCHMZYckSHxvFWPAIR5yfsbFeevGkQL6mUlVu0Bd1aL6i58a0yinNE+74nxRepBQTlnpISENGHMuU3pKcCEwFw0QmHpIKSFNinorbUB9VU1hVouejhVH8R3CUYUkTzKL4lmMQliA4kcTDgZ90OXnCZgSLhGBCyG1g10ur2sX301j047UxlS7ssTWdpyUiSXEC6yPu5fiZjZMEpxE8KKiHlQJEwuHDuI+FbQAbEEeX5Ad1nmU5P49sv1HcOLsxPk8lOg8hGmYOXUcMDWODhilBw1CgYQbQJ42jOzSRsrNG6YI1kaqzRmmiD0qcqBBNtIYm0kITJaGJcNBHnaBRDWhsPhp7jcbWIn8DIdBJw8CaNAisSUOcNTbArdHLTl65wgfvL38BWbDoZg==',\n",
       "  'file_directory': '/home/bluebash-005/code/bluebash/poc/Rag-raptor-demo/data',\n",
       "  'filename': 'fy2024.pdf'}}"
      ]
     },
     "execution_count": 9,
     "metadata": {},
     "output_type": "execute_result"
    }
   ],
   "source": [
    "raw_pdf_elements[4].to_dict()"
   ]
  },
  {
   "cell_type": "code",
   "execution_count": null,
   "metadata": {},
   "outputs": [],
   "source": [
    "text_elements = []\n",
    "text_summaries = []\n",
    "\n",
    "table_elements = []\n",
    "table_summaries = []"
   ]
  },
  {
   "cell_type": "code",
   "execution_count": 35,
   "metadata": {},
   "outputs": [],
   "source": [
    "def summary_of_text_by_gpt(element_type, input):\n",
    "    summary_prompt = \"\"\"\n",
    "    Summarize the following {element_type}:\n",
    "    {element}\n",
    "    \"\"\"\n",
    "\n",
    "    prompt=PromptTemplate.from_template(summary_prompt)\n",
    "    llm=ChatOpenAI(model=\"gpt-4o\", openai_api_key = openai_api_key, max_tokens=1024)\n",
    "    runnable = prompt | llm\n",
    "\n",
    "    summary = runnable.invoke({'element_type': element_type, 'element': input})\n",
    "    return summary.content"
   ]
  },
  {
   "cell_type": "code",
   "execution_count": 38,
   "metadata": {},
   "outputs": [],
   "source": [
    "def text_insert(raw_pdf_elements):\n",
    "    i=0\n",
    "    for e in raw_pdf_elements:\n",
    "        if 'CompositeElement' in repr(e):\n",
    "            text_elements.append(e.text)\n",
    "            summary = summary_of_text_by_gpt(\"text\",e)\n",
    "            text_summaries.append(summary)\n",
    "\n",
    "        elif 'Table' in repr(e):\n",
    "            table_elements.append(e.text)\n",
    "            summary = summary = summary_of_text_by_gpt(\"table\",e)\n",
    "            table_summaries.append(summary)\n",
    "        print(i)\n",
    "        i+=1"
   ]
  },
  {
   "cell_type": "code",
   "execution_count": 39,
   "metadata": {},
   "outputs": [
    {
     "name": "stdout",
     "output_type": "stream",
     "text": [
      "0\n",
      "1\n",
      "2\n",
      "3\n",
      "4\n",
      "5\n",
      "6\n",
      "7\n",
      "8\n",
      "9\n",
      "10\n",
      "11\n",
      "12\n",
      "13\n",
      "14\n",
      "15\n",
      "16\n",
      "17\n",
      "18\n",
      "19\n",
      "20\n",
      "21\n",
      "22\n",
      "23\n",
      "24\n",
      "25\n",
      "26\n",
      "27\n",
      "28\n",
      "29\n",
      "30\n"
     ]
    }
   ],
   "source": [
    "text_insert(raw_pdf_elements)"
   ]
  },
  {
   "cell_type": "code",
   "execution_count": 40,
   "metadata": {},
   "outputs": [
    {
     "data": {
      "text/plain": [
       "20"
      ]
     },
     "execution_count": 40,
     "metadata": {},
     "output_type": "execute_result"
    }
   ],
   "source": [
    "len(text_elements)"
   ]
  },
  {
   "cell_type": "code",
   "execution_count": 41,
   "metadata": {},
   "outputs": [
    {
     "data": {
      "text/plain": [
       "12"
      ]
     },
     "execution_count": 41,
     "metadata": {},
     "output_type": "execute_result"
    }
   ],
   "source": [
    "len(table_elements)"
   ]
  },
  {
   "cell_type": "code",
   "execution_count": 42,
   "metadata": {},
   "outputs": [],
   "source": [
    "image_elements = []\n",
    "image_and_text_summaries=[]"
   ]
  },
  {
   "cell_type": "code",
   "execution_count": 43,
   "metadata": {},
   "outputs": [],
   "source": [
    "def encode_image(image_path):\n",
    "    with open(image_path, \"rb\") as f:\n",
    "        return base64.b64encode(f.read()).decode('utf-8')"
   ]
  },
  {
   "cell_type": "code",
   "execution_count": 44,
   "metadata": {},
   "outputs": [],
   "source": [
    "def summarize_image_by_gpt(encoded_image):\n",
    "    prompt = [\n",
    "        SystemMessage(content=\"You are a bot that is good at analyzing images.\"),\n",
    "        HumanMessage(content=[\n",
    "            {\n",
    "                \"type\": \"text\",\n",
    "                \"text\": \"Describe the only text written on this image. if there is nothing written on the image then say 'No data found'\"\n",
    "            },\n",
    "            {\n",
    "                \"type\": \"image_url\",\n",
    "                \"image_url\": {\n",
    "                    \"url\": f\"data:image/jpeg;base64,{encoded_image}\"\n",
    "                },\n",
    "            },\n",
    "        ])\n",
    "    ]\n",
    "    response = ChatOpenAI(model=\"gpt-4o\", openai_api_key=openai_api_key, max_tokens=1024).invoke(prompt)\n",
    "    return response.content\n"
   ]
  },
  {
   "cell_type": "code",
   "execution_count": 45,
   "metadata": {},
   "outputs": [],
   "source": [
    "def get_last_index_of_page():\n",
    "    page_numbers=[]\n",
    "    last_indices={}\n",
    "    for i in range(len(raw_pdf_elements)):\n",
    "        page_number=raw_pdf_elements[i].metadata.page_number\n",
    "        if page_number in page_numbers:\n",
    "            last_indices[page_number]=i \n",
    "        else:\n",
    "            page_numbers.append(page_number)\n",
    "            last_indices[page_number] = i\n",
    "    return last_indices"
   ]
  },
  {
   "cell_type": "code",
   "execution_count": 46,
   "metadata": {},
   "outputs": [
    {
     "data": {
      "text/plain": [
       "{1: 3, 2: 5, 3: 8, 4: 11, 6: 14, 7: 17, 8: 21, 9: 24, 10: 30}"
      ]
     },
     "execution_count": 46,
     "metadata": {},
     "output_type": "execute_result"
    }
   ],
   "source": [
    "last_indices=get_last_index_of_page()\n",
    "last_indices"
   ]
  },
  {
   "cell_type": "code",
   "execution_count": 47,
   "metadata": {},
   "outputs": [],
   "source": [
    "def get_text_by_page_number(raw_pdf_elements,page_number):\n",
    "    e = raw_pdf_elements[page_number]\n",
    "    if 'CompositeElement' in repr(e):\n",
    "        text_elements.append(e.text)\n",
    "        summary = summary_of_text_by_gpt(\"text\", e.text)\n",
    "        return summary\n",
    "    elif 'Table' in repr(e):\n",
    "        table_elements.append(e.text)\n",
    "        summary = summary_of_text_by_gpt(\"table\", e.text)\n",
    "        return summary"
   ]
  },
  {
   "cell_type": "code",
   "execution_count": 48,
   "metadata": {},
   "outputs": [],
   "source": [
    "def match_text_for_no_data_found(text):\n",
    "    pattern = r\"no data found\"\n",
    "    match = re.search(pattern, text, re.IGNORECASE)\n",
    "    if match:\n",
    "        return True\n",
    "    return False\n"
   ]
  },
  {
   "cell_type": "code",
   "execution_count": 49,
   "metadata": {},
   "outputs": [],
   "source": [
    "def image_insert_with_text(raw_pdf_elements,last_indices):\n",
    "    for i in os.listdir(output_path):\n",
    "        if i.endswith(('.png', '.jpg', '.jpeg')):\n",
    "            image_path = os.path.join(output_path, i)\n",
    "            print(i)\n",
    "            img_page=i.split(\"-\")[1]\n",
    "            page_num = int(img_page)\n",
    "            ind=0\n",
    "            t=True\n",
    "            while len(last_indices)>ind and t:\n",
    "                if page_num in last_indices and page_num>=0:\n",
    "                    text_page=last_indices[page_num]\n",
    "                    t=False\n",
    "                elif page_num>0:\n",
    "                    page_num=page_num-1\n",
    "                else:\n",
    "                    print(\"not found text for \",img_page)\n",
    "                    t=False\n",
    "                    text_page=0\n",
    "                ind+=1\n",
    "            if text_page==0:\n",
    "                continue\n",
    "            encoded_image = encode_image(image_path)\n",
    "            img_summary = summarize_image_by_gpt(encoded_image)\n",
    "            print(\"img summary:- \",img_summary)\n",
    "            if not match_text_for_no_data_found(img_summary):\n",
    "                image_elements.append(encoded_image)\n",
    "                text_summery=get_text_by_page_number(raw_pdf_elements,text_page)\n",
    "                print(\"text sumary:- \",text_summery)\n",
    "                image_and_text_summaries.append(img_summary+\" \"+ text_summery)"
   ]
  },
  {
   "cell_type": "code",
   "execution_count": 50,
   "metadata": {},
   "outputs": [
    {
     "name": "stdout",
     "output_type": "stream",
     "text": [
      "figure-2-2.jpg\n",
      "img summary:-  No data found.\n",
      "figure-5-5.jpg\n",
      "img summary:-  The text written on the image is:\n",
      "\n",
      "- \"Debt Service 6%\"\n",
      "- \"Community Services 7%\"\n",
      "- \"General Government 10%\"\n",
      "- \"Public Safety 25%\"\n",
      "- \"Total Budget: $751,341,324\"\n",
      "- \"Infrastructure 52%\"\n",
      "text sumary:-  The text outlines budget details for the fiscal year 2023-2024, highlighting total net budget figures and allocations across different service areas. Key figures include a total net budget of $751,341,324, with significant expenditures allocated to infrastructure (52%), general government (10%), and debt service (6%). Revenue estimates are derived from prior year actuals, current year projections, trend analysis, and economic forecasts.\n",
      "figure-11-13.jpg\n",
      "img summary:-  The text on the image reads:\n",
      "\n",
      "- \"Total Budget: $751,341,324\"\n",
      "- \"General Fund 44%\"\n",
      "- \"Enterprise Funds 34%\"\n",
      "- \"Debt Service Fund 5%\"\n",
      "- \"Special Rev. Funds 2%\"\n",
      "text sumary:-  The adopted budget for the fiscal year 2023-24 totals $751,341,324, as outlined in the fund summary. This includes allocations for Internal Service Funds.\n",
      "figure-5-6.jpg\n",
      "img summary:-  No data found.\n",
      "figure-8-10.jpg\n",
      "img summary:-  No data found.\n",
      "figure-10-12.jpg\n",
      "img summary:-  No data found\n",
      "figure-11-15.jpg\n",
      "img summary:-  No data found.\n",
      "figure-6-8.jpg\n",
      "img summary:-  No data found.\n",
      "figure-1-1.jpg\n",
      "img summary:-  No data found.\n",
      "figure-9-11.jpg\n",
      "img summary:-  No data found.\n",
      "figure-4-4.jpg\n",
      "img summary:-  No data found.\n",
      "figure-5-7.jpg\n",
      "img summary:-  No data found.\n",
      "figure-3-3.jpg\n",
      "img summary:-  No data found.\n",
      "figure-7-9.jpg\n",
      "img summary:-  No data found.\n",
      "figure-11-14.jpg\n",
      "img summary:-  Internal Service Funds\n",
      "15%\n",
      "text sumary:-  The adopted budget for the fiscal year 2023-24 totals $751,341,324. This summary includes the internal service funds as part of the overall budget.\n"
     ]
    }
   ],
   "source": [
    "image_insert_with_text(raw_pdf_elements,last_indices)"
   ]
  },
  {
   "cell_type": "code",
   "execution_count": 51,
   "metadata": {},
   "outputs": [
    {
     "data": {
      "text/plain": [
       "['The text written on the image is:\\n\\n- \"Debt Service 6%\"\\n- \"Community Services 7%\"\\n- \"General Government 10%\"\\n- \"Public Safety 25%\"\\n- \"Total Budget: $751,341,324\"\\n- \"Infrastructure 52%\" The text outlines budget details for the fiscal year 2023-2024, highlighting total net budget figures and allocations across different service areas. Key figures include a total net budget of $751,341,324, with significant expenditures allocated to infrastructure (52%), general government (10%), and debt service (6%). Revenue estimates are derived from prior year actuals, current year projections, trend analysis, and economic forecasts.',\n",
       " 'The text on the image reads:\\n\\n- \"Total Budget: $751,341,324\"\\n- \"General Fund 44%\"\\n- \"Enterprise Funds 34%\"\\n- \"Debt Service Fund 5%\"\\n- \"Special Rev. Funds 2%\" The adopted budget for the fiscal year 2023-24 totals $751,341,324, as outlined in the fund summary. This includes allocations for Internal Service Funds.',\n",
       " 'Internal Service Funds\\n15% The adopted budget for the fiscal year 2023-24 totals $751,341,324. This summary includes the internal service funds as part of the overall budget.']"
      ]
     },
     "execution_count": 51,
     "metadata": {},
     "output_type": "execute_result"
    }
   ],
   "source": [
    "image_and_text_summaries"
   ]
  },
  {
   "cell_type": "code",
   "execution_count": 52,
   "metadata": {},
   "outputs": [],
   "source": [
    "documents = []\n",
    "retrieve_contents = []\n",
    "docs_texts=[]\n",
    "\n",
    "def get_docummets():\n",
    "    for e, s in zip(text_elements, text_summaries):\n",
    "        i = str(uuid.uuid4())\n",
    "        doc = Document(\n",
    "            page_content = s,\n",
    "            metadata = {\n",
    "                'id': i,\n",
    "                'type': 'text',\n",
    "                'original_content': e\n",
    "            }\n",
    "        )\n",
    "        retrieve_contents.append((i, e))\n",
    "        documents.append(doc)\n",
    "        docs_texts.append(e)\n",
    "    print(\"text_element done\")\n",
    "\n",
    "    for e, s in zip(table_elements, table_summaries):\n",
    "        i = str(uuid.uuid4())\n",
    "        doc = Document(\n",
    "            page_content = s,\n",
    "            metadata = {\n",
    "                'id': i,\n",
    "                'type': 'table',\n",
    "                'original_content': e\n",
    "            }\n",
    "        )\n",
    "        retrieve_contents.append((i, e))\n",
    "        documents.append(doc)\n",
    "        docs_texts.append(e)\n",
    "    \n",
    "    print(\"table_elements done\")\n",
    "\n",
    "    for e, s in zip(image_elements, image_and_text_summaries):\n",
    "        i = str(uuid.uuid4())\n",
    "        doc = Document(\n",
    "            page_content = s,\n",
    "            metadata = {\n",
    "                'id': i,\n",
    "                'type': 'image',\n",
    "                'original_content': e\n",
    "            }\n",
    "        )\n",
    "        retrieve_contents.append((i, s))\n",
    "        documents.append(doc)\n",
    "        docs_texts.append(s)\n",
    "\n",
    "    print(\"image_elements Done\")\n"
   ]
  },
  {
   "cell_type": "code",
   "execution_count": 53,
   "metadata": {},
   "outputs": [
    {
     "name": "stdout",
     "output_type": "stream",
     "text": [
      "text_element done\n",
      "table_elements done\n",
      "image_elements Done\n"
     ]
    }
   ],
   "source": [
    "get_docummets()"
   ]
  },
  {
   "cell_type": "code",
   "execution_count": 54,
   "metadata": {},
   "outputs": [
    {
     "data": {
      "text/plain": [
       "34"
      ]
     },
     "execution_count": 54,
     "metadata": {},
     "output_type": "execute_result"
    }
   ],
   "source": [
    "len(docs_texts)"
   ]
  },
  {
   "cell_type": "code",
   "execution_count": null,
   "metadata": {},
   "outputs": [],
   "source": []
  },
  {
   "cell_type": "code",
   "execution_count": 55,
   "metadata": {},
   "outputs": [],
   "source": [
    "\n",
    "\n",
    "RANDOM_SEED = 224 \n",
    "\n",
    "\n",
    "def global_cluster_embeddings(\n",
    "    embeddings: np.ndarray,\n",
    "    dim: int,\n",
    "    n_neighbors: Optional[int] = None,\n",
    "    metric: str = \"cosine\",\n",
    ") -> np.ndarray:\n",
    "    \"\"\"\n",
    "    Perform global dimensionality reduction on the embeddings using UMAP.\n",
    "\n",
    "    Parameters:\n",
    "    - embeddings: The input embeddings as a numpy array.\n",
    "    - dim: The target dimensionality for the reduced space.\n",
    "    - n_neighbors: Optional; the number of neighbors to consider for each point.\n",
    "                   If not provided, it defaults to the square root of the number of embeddings.\n",
    "    - metric: The distance metric to use for UMAP.\n",
    "\n",
    "    Returns:\n",
    "    - A numpy array of the embeddings reduced to the specified dimensionality.\n",
    "    \"\"\"\n",
    "    if n_neighbors is None:\n",
    "        n_neighbors = int((len(embeddings) - 1) ** 0.5)\n",
    "    return umap.UMAP(\n",
    "        n_neighbors=n_neighbors, n_components=dim, metric=metric\n",
    "    ).fit_transform(embeddings)\n",
    "\n",
    "\n",
    "def local_cluster_embeddings(\n",
    "    embeddings: np.ndarray, dim: int, num_neighbors: int = 10, metric: str = \"cosine\"\n",
    ") -> np.ndarray:\n",
    "    \"\"\"\n",
    "    Perform local dimensionality reduction on the embeddings using UMAP, typically after global clustering.\n",
    "\n",
    "    Parameters:\n",
    "    - embeddings: The input embeddings as a numpy array.\n",
    "    - dim: The target dimensionality for the reduced space.\n",
    "    - num_neighbors: The number of neighbors to consider for each point.\n",
    "    - metric: The distance metric to use for UMAP.\n",
    "\n",
    "    Returns:\n",
    "    - A numpy array of the embeddings reduced to the specified dimensionality.\n",
    "    \"\"\"\n",
    "    return umap.UMAP(\n",
    "        n_neighbors=num_neighbors, n_components=dim, metric=metric\n",
    "    ).fit_transform(embeddings)\n",
    "\n",
    "\n",
    "def get_optimal_clusters(\n",
    "    embeddings: np.ndarray, max_clusters: int = 50, random_state: int = RANDOM_SEED\n",
    ") -> int:\n",
    "    \"\"\"\n",
    "    Determine the optimal number of clusters using the Bayesian Information Criterion (BIC) with a Gaussian Mixture Model.\n",
    "\n",
    "    Parameters:\n",
    "    - embeddings: The input embeddings as a numpy array.\n",
    "    - max_clusters: The maximum number of clusters to consider.\n",
    "    - random_state: Seed for reproducibility.\n",
    "\n",
    "    Returns:\n",
    "    - An integer representing the optimal number of clusters found.\n",
    "    \"\"\"\n",
    "    max_clusters = min(max_clusters, len(embeddings))\n",
    "    n_clusters = np.arange(1, max_clusters)\n",
    "    bics = []\n",
    "    for n in n_clusters:\n",
    "        gm = GaussianMixture(n_components=n, random_state=random_state)\n",
    "        gm.fit(embeddings)\n",
    "        bics.append(gm.bic(embeddings))\n",
    "    return n_clusters[np.argmin(bics)]\n",
    "\n",
    "\n",
    "def GMM_cluster(embeddings: np.ndarray, threshold: float, random_state: int = 0):\n",
    "    \"\"\"\n",
    "    Cluster embeddings using a Gaussian Mixture Model (GMM) based on a probability threshold.\n",
    "\n",
    "    Parameters:\n",
    "    - embeddings: The input embeddings as a numpy array.\n",
    "    - threshold: The probability threshold for assigning an embedding to a cluster.\n",
    "    - random_state: Seed for reproducibility.\n",
    "\n",
    "    Returns:\n",
    "    - A tuple containing the cluster labels and the number of clusters determined.\n",
    "    \"\"\"\n",
    "    n_clusters = get_optimal_clusters(embeddings)\n",
    "    gm = GaussianMixture(n_components=n_clusters, random_state=random_state)\n",
    "    gm.fit(embeddings)\n",
    "    probs = gm.predict_proba(embeddings)\n",
    "    labels = [np.where(prob > threshold)[0] for prob in probs]\n",
    "    return labels, n_clusters\n",
    "\n",
    "\n",
    "def perform_clustering(\n",
    "    embeddings: np.ndarray,\n",
    "    dim: int,\n",
    "    threshold: float,\n",
    ") -> List[np.ndarray]:\n",
    "    \"\"\"\n",
    "    Perform clustering on the embeddings by first reducing their dimensionality globally, then clustering\n",
    "    using a Gaussian Mixture Model, and finally performing local clustering within each global cluster.\n",
    "\n",
    "    Parameters:\n",
    "    - embeddings: The input embeddings as a numpy array.\n",
    "    - dim: The target dimensionality for UMAP reduction.\n",
    "    - threshold: The probability threshold for assigning an embedding to a cluster in GMM.\n",
    "\n",
    "    Returns:\n",
    "    - A list of numpy arrays, where each array contains the cluster IDs for each embedding.\n",
    "    \"\"\"\n",
    "    if len(embeddings) <= dim + 1:\n",
    "        # Avoid clustering when there's insufficient data\n",
    "        return [np.array([0]) for _ in range(len(embeddings))]\n",
    "\n",
    "    # Global dimensionality reduction\n",
    "    reduced_embeddings_global = global_cluster_embeddings(embeddings, dim)\n",
    "    # Global clustering\n",
    "    global_clusters, n_global_clusters = GMM_cluster(\n",
    "        reduced_embeddings_global, threshold\n",
    "    )\n",
    "\n",
    "    all_local_clusters = [np.array([]) for _ in range(len(embeddings))]\n",
    "    total_clusters = 0\n",
    "\n",
    "    # Iterate through each global cluster to perform local clustering\n",
    "    for i in range(n_global_clusters):\n",
    "        # Extract embeddings belonging to the current global cluster\n",
    "        global_cluster_embeddings_ = embeddings[\n",
    "            np.array([i in gc for gc in global_clusters])\n",
    "        ]\n",
    "\n",
    "        if len(global_cluster_embeddings_) == 0:\n",
    "            continue\n",
    "        if len(global_cluster_embeddings_) <= dim + 1:\n",
    "            # Handle small clusters with direct assignment\n",
    "            local_clusters = [np.array([0]) for _ in global_cluster_embeddings_]\n",
    "            n_local_clusters = 1\n",
    "        else:\n",
    "            # Local dimensionality reduction and clustering\n",
    "            reduced_embeddings_local = local_cluster_embeddings(\n",
    "                global_cluster_embeddings_, dim\n",
    "            )\n",
    "            local_clusters, n_local_clusters = GMM_cluster(\n",
    "                reduced_embeddings_local, threshold\n",
    "            )\n",
    "\n",
    "        # Assign local cluster IDs, adjusting for total clusters already processed\n",
    "        for j in range(n_local_clusters):\n",
    "            local_cluster_embeddings_ = global_cluster_embeddings_[\n",
    "                np.array([j in lc for lc in local_clusters])\n",
    "            ]\n",
    "            indices = np.where(\n",
    "                (embeddings == local_cluster_embeddings_[:, None]).all(-1)\n",
    "            )[1]\n",
    "            for idx in indices:\n",
    "                all_local_clusters[idx] = np.append(\n",
    "                    all_local_clusters[idx], j + total_clusters\n",
    "                )\n",
    "\n",
    "        total_clusters += n_local_clusters\n",
    "\n",
    "    return all_local_clusters\n",
    "\n",
    "\n",
    "### --- Our code below --- ###\n",
    "\n",
    "\n",
    "def embed(texts):\n",
    "    \"\"\"\n",
    "    Generate embeddings for a list of text documents.\n",
    "\n",
    "    This function assumes the existence of an `embd` object with a method `embed_documents`\n",
    "    that takes a list of texts and returns their embeddings.\n",
    "\n",
    "    Parameters:\n",
    "    - texts: List[str], a list of text documents to be embedded.\n",
    "\n",
    "    Returns:\n",
    "    - numpy.ndarray: An array of embeddings for the given text documents.\n",
    "    \"\"\"\n",
    "    text_embeddings = embd.embed_documents(texts)\n",
    "    text_embeddings_np = np.array(text_embeddings)\n",
    "    return text_embeddings_np\n",
    "\n",
    "\n",
    "def embed_cluster_texts(texts):\n",
    "    \"\"\"\n",
    "    Embeds a list of texts and clusters them, returning a DataFrame with texts, their embeddings, and cluster labels.\n",
    "\n",
    "    This function combines embedding generation and clustering into a single step. It assumes the existence\n",
    "    of a previously defined `perform_clustering` function that performs clustering on the embeddings.\n",
    "\n",
    "    Parameters:\n",
    "    - texts: List[str], a list of text documents to be processed.\n",
    "\n",
    "    Returns:\n",
    "    - pandas.DataFrame: A DataFrame containing the original texts, their embeddings, and the assigned cluster labels.\n",
    "    \"\"\"\n",
    "    text_embeddings_np = embed(texts)  # Generate embeddings\n",
    "    cluster_labels = perform_clustering(\n",
    "        text_embeddings_np, 10, 0.1\n",
    "    )  # Perform clustering on the embeddings\n",
    "    df = pd.DataFrame()  # Initialize a DataFrame to store the results\n",
    "    df[\"text\"] = texts  # Store original texts\n",
    "    df[\"embd\"] = list(text_embeddings_np)  # Store embeddings as a list in the DataFrame\n",
    "    df[\"cluster\"] = cluster_labels  # Store cluster labels\n",
    "    return df\n",
    "\n",
    "\n",
    "def fmt_txt(df: pd.DataFrame) -> str:\n",
    "    \"\"\"\n",
    "    Formats the text documents in a DataFrame into a single string.\n",
    "\n",
    "    Parameters:\n",
    "    - df: DataFrame containing the 'text' column with text documents to format.\n",
    "\n",
    "    Returns:\n",
    "    - A single string where all text documents are joined by a specific delimiter.\n",
    "    \"\"\"\n",
    "    unique_txt = df[\"text\"].tolist()\n",
    "    return \"--- --- \\n --- --- \".join(unique_txt)\n",
    "\n",
    "\n",
    "def embed_cluster_summarize_texts(\n",
    "    texts: List[str], level: int\n",
    ") -> Tuple[pd.DataFrame, pd.DataFrame]:\n",
    "    \"\"\"\n",
    "    Embeds, clusters, and summarizes a list of texts. This function first generates embeddings for the texts,\n",
    "    clusters them based on similarity, expands the cluster assignments for easier processing, and then summarizes\n",
    "    the content within each cluster.\n",
    "\n",
    "    Parameters:\n",
    "    - texts: A list of text documents to be processed.\n",
    "    - level: An integer parameter that could define the depth or detail of processing.\n",
    "\n",
    "    Returns:\n",
    "    - Tuple containing two DataFrames:\n",
    "      1. The first DataFrame (`df_clusters`) includes the original texts, their embeddings, and cluster assignments.\n",
    "      2. The second DataFrame (`df_summary`) contains summaries for each cluster, the specified level of detail,\n",
    "         and the cluster identifiers.\n",
    "    \"\"\"\n",
    "\n",
    "    # Embed and cluster the texts, resulting in a DataFrame with 'text', 'embd', and 'cluster' columns\n",
    "    df_clusters = embed_cluster_texts(texts)\n",
    "\n",
    "    # Prepare to expand the DataFrame for easier manipulation of clusters\n",
    "    expanded_list = []\n",
    "\n",
    "    # Expand DataFrame entries to document-cluster pairings for straightforward processing\n",
    "    for index, row in df_clusters.iterrows():\n",
    "        for cluster in row[\"cluster\"]:\n",
    "            expanded_list.append(\n",
    "                {\"text\": row[\"text\"], \"embd\": row[\"embd\"], \"cluster\": cluster}\n",
    "            )\n",
    "\n",
    "    # Create a new DataFrame from the expanded list\n",
    "    expanded_df = pd.DataFrame(expanded_list)\n",
    "\n",
    "    # Retrieve unique cluster identifiers for processing\n",
    "    all_clusters = expanded_df[\"cluster\"].unique()\n",
    "\n",
    "    print(f\"--Generated {len(all_clusters)} clusters--\")\n",
    "\n",
    "    # Summarization\n",
    "    template = \"\"\"\n",
    "    Give a detailed summary of the provided context : {context}\n",
    "    \"\"\"\n",
    "    prompt = ChatPromptTemplate.from_template(template)\n",
    "    chain = prompt | model | StrOutputParser()\n",
    "\n",
    "    # Format text within each cluster for summarization\n",
    "    summaries = []\n",
    "    for i in all_clusters:\n",
    "        df_cluster = expanded_df[expanded_df[\"cluster\"] == i]\n",
    "        formatted_txt = fmt_txt(df_cluster)\n",
    "        summaries.append(chain.invoke({\"context\": formatted_txt}))\n",
    "\n",
    "    # Create a DataFrame to store summaries with their corresponding cluster and level\n",
    "    df_summary = pd.DataFrame(\n",
    "        {\n",
    "            \"summaries\": summaries,\n",
    "            \"level\": [level] * len(summaries),\n",
    "            \"cluster\": list(all_clusters),\n",
    "        }\n",
    "    )\n",
    "\n",
    "    return df_clusters, df_summary\n",
    "\n",
    "\n",
    "def recursive_embed_cluster_summarize(\n",
    "    texts: List[str], level: int = 1, n_levels: int = 3\n",
    ") -> Dict[int, Tuple[pd.DataFrame, pd.DataFrame]]:\n",
    "    \"\"\"\n",
    "    Recursively embeds, clusters, and summarizes texts up to a specified level or until\n",
    "    the number of unique clusters becomes 1, storing the results at each level.\n",
    "\n",
    "    Parameters:\n",
    "    - texts: List[str], texts to be processed.\n",
    "    - level: int, current recursion level (starts at 1).\n",
    "    - n_levels: int, maximum depth of recursion.\n",
    "\n",
    "    Returns:\n",
    "    - Dict[int, Tuple[pd.DataFrame, pd.DataFrame]], a dictionary where keys are the recursion\n",
    "      levels and values are tuples containing the clusters DataFrame and summaries DataFrame at that level.\n",
    "    \"\"\"\n",
    "    results = {}  # Dictionary to store results at each level\n",
    "\n",
    "    # Perform embedding, clustering, and summarization for the current level\n",
    "    df_clusters, df_summary = embed_cluster_summarize_texts(texts, level)\n",
    "\n",
    "    # Store the results of the current level\n",
    "    results[level] = (df_clusters, df_summary)\n",
    "\n",
    "    # Determine if further recursion is possible and meaningful\n",
    "    unique_clusters = df_summary[\"cluster\"].nunique()\n",
    "    if level < n_levels and unique_clusters > 1:\n",
    "        # Use summaries as the input texts for the next level of recursion\n",
    "        new_texts = df_summary[\"summaries\"].tolist()\n",
    "        next_level_results = recursive_embed_cluster_summarize(\n",
    "            new_texts, level + 1, n_levels\n",
    "        )\n",
    "\n",
    "        # Merge the results from the next level into the current results dictionary\n",
    "        results.update(next_level_results)\n",
    "\n",
    "    return results"
   ]
  },
  {
   "cell_type": "code",
   "execution_count": 56,
   "metadata": {},
   "outputs": [
    {
     "name": "stdout",
     "output_type": "stream",
     "text": [
      "--Generated 8 clusters--\n",
      "--Generated 1 clusters--\n"
     ]
    }
   ],
   "source": [
    "# Build tree\n",
    "leaf_texts = docs_texts\n",
    "results = recursive_embed_cluster_summarize(leaf_texts, level=1, n_levels=3)"
   ]
  },
  {
   "cell_type": "code",
   "execution_count": 57,
   "metadata": {},
   "outputs": [
    {
     "data": {
      "text/plain": [
       "{1: (                                                 text  \\\n",
       "  0   TOTAL BUDGET - EXPENDITURES\\n\\nThe FY 23-24 ne...   \n",
       "  1   TOTAL BUDGET - EXPENDITURES\\n\\nThe FY 23-24 ne...   \n",
       "  2   The Public Safety service area increases from ...   \n",
       "  3   The Debt Service service area increases from $...   \n",
       "  4   The budget includes a 4% average merit increas...   \n",
       "  5   Adopted 2023-24 Budget\\n\\n21\\n\\nSERVICE AREA S...   \n",
       "  6   Community Services\\n\\nGeneral Government Budge...   \n",
       "  7   Less Transfers and Internal Charges\\n\\nTOTAL N...   \n",
       "  8   Property Taxes The FY 23-24 recommended budget...   \n",
       "  9   Sales tax revenue for FY 23-24 is projected at...   \n",
       "  10  Telecommunications, video, and satellite reven...   \n",
       "  11  Budgeted revenues for FY 23-24 are $276.6 mill...   \n",
       "  12  The General Fund contribution to the Debt Serv...   \n",
       "  13  PROPERTY TAX RATE\\n\\nThe property tax rate for...   \n",
       "  14  Assessed Valuation\\n\\nFY 04-05* FY 05-06 FY 06...   \n",
       "  15  TOTAL BUDGET - POSITION CHANGES\\n\\nThe accompa...   \n",
       "  16  Information Technology added one (1) SQL DBS A...   \n",
       "  17  The FY 23-24 budget includes a multi-departmen...   \n",
       "  18  TOTAL\\n\\nFull Time Equivalent Position Changes...   \n",
       "  19  The table outlines the actual budget for the f...   \n",
       "  20  The table summarizes the budget allocations fo...   \n",
       "  21  It looks like the table information might be m...   \n",
       "  22  The table presents budgetary data for differen...   \n",
       "  23  The table appears to be a list of large numeri...   \n",
       "  24  The table provides a financial overview of var...   \n",
       "  25  The table presents data on tax rates and vario...   \n",
       "  26  It looks like you intended to share a table fo...   \n",
       "  27  The table presents a detailed budget allocatio...   \n",
       "  28  It looks like there was a table intended to be...   \n",
       "  29  It looks like your request to summarize a tabl...   \n",
       "  30  The table summarizes the financial changes acr...   \n",
       "  31  The text written on the image is:\\n\\n- \"Debt S...   \n",
       "  32  The text on the image reads:\\n\\n- \"Total Budge...   \n",
       "  33  Internal Service Funds\\n15% The adopted budget...   \n",
       "  \n",
       "                                                   embd cluster  \n",
       "  0   [0.019907325506210327, 0.0005544568412005901, ...   [4.0]  \n",
       "  1   [0.019907735288143158, 0.0004605657304637134, ...   [4.0]  \n",
       "  2   [0.030250634998083115, 0.007744485978037119, -...   [4.0]  \n",
       "  3   [0.004099260084331036, 0.013855899684131145, -...   [7.0]  \n",
       "  4   [0.017326386645436287, 0.006759562063962221, -...   [4.0]  \n",
       "  5   [0.009720593690872192, 0.0005267565720714629, ...   [6.0]  \n",
       "  6   [0.01565653271973133, 0.0030948580242693424, -...   [6.0]  \n",
       "  7   [0.011079292744398117, -0.004680837504565716, ...   [5.0]  \n",
       "  8   [0.0067108673974871635, 0.007618617732077837, ...   [2.0]  \n",
       "  9   [0.005812378134578466, -0.0006025924230925739,...   [2.0]  \n",
       "  10  [0.021189291030168533, 0.0020006555132567883, ...   [4.0]  \n",
       "  11  [0.014820542186498642, -0.006428026128560305, ...   [4.0]  \n",
       "  12  [0.008066141046583652, 0.010941601358354092, -...   [4.0]  \n",
       "  13  [0.00463786069303751, 0.0017387958941981196, -...   [2.0]  \n",
       "  14  [0.005685050040483475, 0.0049756676889956, -0....   [2.0]  \n",
       "  15  [0.024325264617800713, -0.0009166563977487385,...   [7.0]  \n",
       "  16  [0.024044986814260483, 0.006094255950301886, -...   [7.0]  \n",
       "  17  [0.013388232327997684, 0.012322873808443546, -...   [7.0]  \n",
       "  18  [0.002350117079913616, -0.006598207633942366, ...   [0.0]  \n",
       "  19  [0.007969677448272705, 0.0005134630482643843, ...   [6.0]  \n",
       "  20  [0.015956411138176918, -0.0020192160736769438,...   [6.0]  \n",
       "  21  [-0.013084514066576958, 0.01888527162373066, 0...   [1.0]  \n",
       "  22  [0.010909189470112324, -0.011887622065842152, ...   [3.0]  \n",
       "  23  [0.005735992919653654, 0.002838614396750927, 0...   [1.0]  \n",
       "  24  [0.0005099158734083176, -0.009336395189166069,...   [3.0]  \n",
       "  25  [0.007121741306036711, -0.007135268300771713, ...   [3.0]  \n",
       "  26  [-0.015061834827065468, 0.0032635072711855173,...   [1.0]  \n",
       "  27  [0.014881311915814877, -0.007070933934301138, ...   [6.0]  \n",
       "  28  [-0.022949742153286934, -0.004589274991303682,...   [1.0]  \n",
       "  29  [-0.018064510077238083, -0.004828501492738724,...   [1.0]  \n",
       "  30  [-0.0036977350246161222, -0.004436616320163011...   [5.0]  \n",
       "  31  [0.003079791786149144, 0.00649244524538517, -0...   [5.0]  \n",
       "  32  [-0.0030456329695880413, 0.000820326735265553,...   [5.0]  \n",
       "  33  [0.005641894415020943, 0.0020569406915456057, ...   [5.0]  ,\n",
       "                                             summaries  level  cluster\n",
       "  0  The FY 23-24 budget for all funds totals $751,...      1      4.0\n",
       "  1  The provided context outlines significant chan...      1      7.0\n",
       "  2  The provided context outlines the adopted budg...      1      6.0\n",
       "  3  The provided context outlines the financial de...      1      5.0\n",
       "  4  The provided context outlines the fiscal year ...      1      2.0\n",
       "  5  The provided context appears to be a heading o...      1      0.0\n",
       "  6  It seems like there was an attempt to share a ...      1      1.0\n",
       "  7  The provided context outlines budgetary data a...      1      3.0),\n",
       " 2: (                                                text  \\\n",
       "  0  The FY 23-24 budget for all funds totals $751,...   \n",
       "  1  The provided context outlines significant chan...   \n",
       "  2  The provided context outlines the adopted budg...   \n",
       "  3  The provided context outlines the financial de...   \n",
       "  4  The provided context outlines the fiscal year ...   \n",
       "  5  The provided context appears to be a heading o...   \n",
       "  6  It seems like there was an attempt to share a ...   \n",
       "  7  The provided context outlines budgetary data a...   \n",
       "  \n",
       "                                                  embd cluster  \n",
       "  0  [0.02081581950187683, 0.007607575505971909, -0...     [0]  \n",
       "  1  [0.008090238086879253, 0.01125745102763176, -0...     [0]  \n",
       "  2  [0.0061774542555212975, -0.005624786019325256,...     [0]  \n",
       "  3  [-0.002796475077047944, -0.0054389555007219315...     [0]  \n",
       "  4  [-0.00020665477495640516, 0.01198211032897234,...     [0]  \n",
       "  5  [0.014463457278907299, 0.002926171524450183, -...     [0]  \n",
       "  6  [-0.013963212259113789, 0.007009352557361126, ...     [0]  \n",
       "  7  [0.008739853277802467, -0.013082846999168396, ...     [0]  ,\n",
       "                                             summaries  level  cluster\n",
       "  0  The provided context outlines the fiscal year ...      2        0)}"
      ]
     },
     "execution_count": 57,
     "metadata": {},
     "output_type": "execute_result"
    }
   ],
   "source": [
    "results"
   ]
  },
  {
   "cell_type": "code",
   "execution_count": 58,
   "metadata": {},
   "outputs": [],
   "source": [
    "\n",
    "# Initialize all_texts with leaf_texts\n",
    "all_texts = leaf_texts.copy()\n",
    "\n",
    "# Iterate through the results to extract summaries from each level and add them to all_texts\n",
    "for level in sorted(results.keys()):\n",
    "    # Extract summaries from the current level's DataFrame\n",
    "    summaries = results[level][1][\"summaries\"].tolist()\n",
    "    # Extend all_texts with the summaries from the current level\n",
    "    all_texts.extend(summaries)"
   ]
  },
  {
   "cell_type": "code",
   "execution_count": 59,
   "metadata": {},
   "outputs": [
    {
     "data": {
      "text/plain": [
       "43"
      ]
     },
     "execution_count": 59,
     "metadata": {},
     "output_type": "execute_result"
    }
   ],
   "source": [
    "len(all_texts)"
   ]
  },
  {
   "cell_type": "code",
   "execution_count": 60,
   "metadata": {},
   "outputs": [
    {
     "data": {
      "text/plain": [
       "[\"TOTAL BUDGET - EXPENDITURES\\n\\nThe FY 23-24 net budget (for all funds) of $751,341,324 is $62,410,773 million, or 9.1%, higher than the revised FY 22-23 budget.\\n\\nThe Infrastructure service area is the largest portion of the total budget, at $390.2 million, or 52%, of the total budget. The service area budget is $34.0 million, or 9.5%, greater than the revised current year budget. The Water Resources Fund increases from $148.6 million to $166.2 million, a difference of $17.6 million. Balancing current financing, or “pay-as-you-go” capital project financing with debt financing, Water Resources will transfer $32.7 million to various capital reserve and capital improvement funds for significant system maintenance projects.\\n\\nThe Field Operations Department budget includes funding necessary to meet increased costs associated with the City's solid waste collections program. Net costs for these programs increase by $2 million in FY 23-24 due to projected inflationary and tonnage increases. Growing disposal costs will be partially offset by proposed tipping fee increases.\\n\\nThe Parking Fund includes operations and debt service costs associated with the new Eugene Street and February One Street parking decks. The Eugene Street deck was completed in FY 22-23, and the February One Street parking deck is under construction and expected to be completed in FY 23-24. The General Fund began providing debt service support for the decks in FY 22-23. The General Fund will transfer approximately $3.6 million to the Parking Operations Fund to support debt service in FY 23-24.\",\n",
       " \"TOTAL BUDGET - EXPENDITURES\\n\\nThe FY 23-24 net budget (for all funds) of $751,341,324 is $62,410,773 million, or 9.1%, higher than the revised FY 22-23 budget.\\n\\nThe Infrastructure service area is the largest portion of the total budget, at $390.2 million, or 52%, of the total budget. The service area budget is $34.0 million, or 9.5%, greater than the revised current year budget. The Water Resources Fund increases from $148.6 million to $166.2 million, a difference of $17.6 million. Balancing current financing, or “pay-as-you-go” capital project financing with debt financing, Water Resources will transfer $32.7 million to various capital reserve and capital improvement funds for significant system maintenance projects.\\n\\nThe Field Operations Department budget includes funding necessary to meet increased costs associated with the City's solid waste collections program. Net costs for these programs increase by $2 million in FY 23-24 due to projected inflationary and tonnage increases. Growing disposal costs will be partially offset by proposed tipping fee increases.\\n\\nThe Parking Fund includes operations and debt service costs associated with the new Eugene Street and February One Street parking decks. The Eugene Street deck was completed in FY 22-23, and the February One Street parking deck is under construction and expected to be completed in FY 23-24. The General Fund began providing debt service support for the decks in FY 22-23. The General Fund will transfer approximately $3.6 million to the Parking Operations Fund to support debt service in FY 23-24.\",\n",
       " 'The Public Safety service area increases from $175.4 million to $190.3 million, or $15.0 million. This is the second largest service area, accounting for 25% of the total budget. The service area includes the addition of 9 fire positions for inspections and permits. The continuation of the police vehicle take home program is included with 20 additional vehicles being added to the fleet for a total cost of approximately $1.7 million. Since implementation in FY 20-21, over 40 patrol vehicles have been added, with a total of more than 100 patrol vehicles projected to be added for the program over the next several years. The budget also includes continued funding for community outreach efforts to decrease violent crime through neighborhood engagement.\\n\\nThe General Government service area increases from $67.7 to $72.6, or $4.9 million dollars. This service area accounts for 10% of the total budget. A reorganization of several departments and divisions in the General Government service area is included to establish the Office of Sustainability and the Office of Community Safety.\\n\\nThe Community Services service area increases from $47.5 million to $51.2 million, or $3.7 million, approximately 7% of the total budget. Neighborhood Development adds a Neighborhood Impact Manager and Code Compliance Field Supervisor as part of a reorganization to enhance community housing and code enforcement services. The Parks and Recreation budget includes approximately $580,000 for costs related to contracted services including mowing and security, Gillespie Golf Course maintenance, and additional support for LeBauer Park.',\n",
       " 'The Debt Service service area increases from $42.2 million to $46.9 million, or 6% of total budget expenses. The Debt Service Fund expenditures include principal and interest payments for all outstanding general obligation bonds, including $126 million in bonds approved by voters in 2016 and $135 million in bonds approved by voters in 2022. The 2022 Bonds include funding for Parks & Recreation, Housing, Police, Fire, and Transportation projects. Critical information technology improvements for software, systems, and security is supported through a transfer of $1.5 million to the Capital Leasing Fund.\\n\\nThe FY 24-25 projected budget is $21.2 million, or 2.8%, higher than the FY 23-24 recommended budget.\\n\\nBudgeted personnel costs are 10.6% higher than the FY22-23 revised budget, including an increase of 44.5 full-time equivalent (FTE) positions within the total operating budget. New positions for enhanced Development Services include 15 FTEs in Planning, Engineering & Inspections, Transportation, Fire, and Water Resources to support increased demand. The Fire department adds 5 FTEs for additional compliance inspectors to address needed support for increased regular fire inspections throughout the community. Water Resources also includes the addition of 4 FTEs for a sewer maintenance crew and a 1 FTE for a laboratory coordinator to support increased compensation for the Police Department, 30 FTEs are reduced from unfilled patrol positions. The net impact for the overall budget is an increase of 14.5 FTEs compared to the adopted FY 22-23 budget. The remaining positions result from enhancements for the other service areas. Other position additions and changes are detailed in the appropriate service area sections of the document.',\n",
       " 'The budget includes a 4% average merit increase for all eligible employees and a 4% step movement for all general employees on the step program. The minimum wage for benefitted employees increases from $15.91 to $18.00 per hour. Police sworn personnel will have a market-based increase of 16.2%. Fire and Guilford Metro personnel will receive a 4% market adjustment to salaries. Starting pay will increase to $47,812 for Fire and $55,000 for Police. The City is required to increase its contribution to the North Carolina Local Government Retirement System on behalf of its employees, resulting in an approximate $4.6 million increase in retirement contribution costs for the total budget.\\n\\nAdopted 2023-24 Budget\\n\\n20\\n\\n@\\n\\nTOTAL BUDGET - EXPENDITURES\\n\\nMaintenance and Operations (M&O) costs, which include transfers from operating funds to capital projects or capital reserve funds, and debt service expenditures, increase from $371.7 million to $405.2 million, or 9.0%. The FY 23-24 budget includes several transfers to other funds to support new parking facility debt of $3 million, $1.5 million for information technology support and improvement, and support for the Coliseum, Guilford Metro 911, and Cemeteries funds. Contract and supply increases to maintain current service levels for solid waste services, security, fuel price increases and others total almost $4.5 million.\\n\\nCapital outlay expenditures are budgeted at $22.8 million, about $2.0 million less than the amended FY 22-23 budget. The Equipment Services Fund is projecting rolling stock replacement needs of $14.8 million in FY 23-24 as compared to $14.6 million in the current year.\\n\\nTotal Net Expenditures by Expenditure Category',\n",
       " 'Adopted 2023-24 Budget\\n\\n21\\n\\nSERVICE AREA SUMMARY',\n",
       " 'Community Services\\n\\nGeneral Government Budget & Evaluation\\n\\nAdopted 2023-24 Budget\\n\\n22\\n\\nSERVICE AREA SUMMARY',\n",
       " 'Less Transfers and Internal Charges\\n\\nTOTAL NET BUDGET\\n\\n141,085,305 589,800,622\\n\\n141,085,305\\n\\n589,800,622\\n\\n162,178,706 688,930,551\\n\\n162,178,706\\n\\n688,930,551\\n\\n167,918,671\\n\\n167,918,671\\n\\n751,341,324\\n\\nAdopted 2023-24 Budget\\n\\n23\\n\\n23\\n\\n169,917,133\\n\\n772,515,336\\n\\ne\\n\\nExpenditures by Service Area FY 23-24 Budget\\n\\nDebt Service 6% General Government 10% Total Budget: $751 341 324 Infrastructure 52%\\n\\nAdopted 2023-24 Budget\\n\\n24\\n\\nTOTAL BUDGET - REVENUES\\n\\nRevenue estimates are based on actual prior year amounts, current year projections, trend analysis, and general economic forecasts. Each of the major revenue categories are discussed in further detail below the chart.\\n\\nTotal Revenue by Major Type',\n",
       " 'Property Taxes The FY 23-24 recommended budget is balanced with a property tax rate of 67.25 cents, a four cent increase to the adopted rate for FY 22- 23. The tax rate is allocated 62.75 cents to the General Fund, 3.50 cents to the Transit Fund, and 1.00 cent to the Housing Partnership Fund. Property taxes are budgeted at $251.9 million, an increase of $18.6 million, or 7.9%, above the amended current year budget. Property taxes make up about 33.6% of total net revenues. Based on information provided by the Guilford County Tax Department, the tax base is estimated at $37.4 billion with a growth rate of approximately 1.75% for FY 23-24.\\n\\nLocal Option Sales Tax The State of North Carolina grants counties the authority to levy a general local sales tax of up to 2.0%. Counties and transportation authorities are also authorized to levy a public transportation sales tax (subject to voter approval), and counties may authorize a restricted county purpose local sales tax of 0.25% (subject to voter approval). The general state sales tax is currently at 4.75%. Guilford County levies a 2.0% general sales tax. Sales tax distribution among jurisdictions within Guilford County is based on total tax levy of all jurisdictions.',\n",
       " 'Sales tax revenue for FY 23-24 is projected at $88.6 million, representing an increase of $7.6 million above the amended FY 22-23 budget. Projections for FY 22-23 estimate a growth rate of approximately 11% compared FY 21-22 actuals. For FY 23-24, sales tax receipts are projected to increase 4% compared to current estimates. Due to the impact of sales tax distribution based on the overall Guilford County tax levy, receipts for FY 23-24 are expected to decrease by approximately $3 million. This occurs when the City changes tax rates by a lower amount compared to other jurisdictions in the county, primarily the Guilford County tax rate. The result is a projected sales tax growth of almost 7.5%. Local option sales tax revenues constitute about 9.6% of total net revenues.\\n\\nAdopted 2023-24 Budget\\n\\n25\\n\\n@\\n\\nIntergovernmental Revenue Intergovernmental revenues include those revenues that are collected by the State of North Carolina and returned to local governments, such as the Beer and Wine Tax, Utility Sales Taxes, various cable and satellite service sales taxes (now shared with local governments through the Video Services Competition Act), and portions of the state tax on gasoline. This revenue category also includes contributions from Guilford County for support for the City’s Library System, and federal and state grants that help support the Greensboro Transit Agency.\\n\\nIntergovernmental revenues are budgeted at approximately $56.2 million, about $1.3 million more than the revised current year budget. Electric Utility and Piped Natural Gas sales revenues are budgeted at $19.5 million, $1.4 million, or 7.7% higher than the FY 22-23 budgeted amount.',\n",
       " 'Telecommunications, video, and satellite revenues decrease from $4.2 million to $3.5 million, or approximately 19%. This is a continuation of recent trends in decreased revenues from telecommunication sales taxes as consumers continue to abandon landline services.\\n\\nPowell Bill funds, the City’s portion of the state gasoline tax, are budgeted at approximately $8.4 million for FY 23-24, the same as FY 22-23. The budget includes federal and state funding for transit services of $7.5 million, a slight decrease from FY 22-23.\\n\\nShared revenues from beer, wine, and the City’s share of the local ABC distribution of sales taxes are projected to remain the same at approximately $6.5 million. Recent information shared by the local ABC Board indicates that growth in the distribution may be limited in the coming year due to capital plans and State required fund balance needs. Other state shared revenues are expected to remain largely flat overall.\\n\\nUser Fees, Charges and Licenses These revenues primarily represent charges for City services that are provided by departments typically operating as enterprises in separate funds. Examples include water and sewer charges, solid waste transfer station tipping fees, parking deck and on-street parking fees, transit fares, Coliseum parking and concessions, and the stormwater management fee. Charges for services provided by General Fund Departments, such as Parks and Recreation and Engineering and Inspections, are also included in this category.',\n",
       " 'Budgeted revenues for FY 23-24 are $276.6 million, compared to $253.3 million for FY 22-23. User fee revenue generated in the Water Resources Fund is a significant portion of this revenue category. Budgeted Water Resources user fee revenue will increase from $133.9 million to $147.8 million, an increase of $13.8 million, or 10.3%, based on service growth and increased rates. An average rate increase of 8.5% is necessary to ensure debt coverage, maintenance, contaminant mitigation, and capacity improvement projections for the water and sewer system. Solid waste landfill and tipping fees are also recommended to increase as contracted service and disposal costs continue to rise.\\n\\nOther Revenues Revenues not otherwise defined are included in this category. These include interest income, internal service charges, proceeds of capitalized leases, donations, and sale of assets. Internal charges, or charges assessed by one department for services rendered for another, are captured in this category. This includes internal printing charges, garage and fleet maintenance charges, and computer service and maintenance charges.\\n\\nRevenues in this category are budgeted for FY 23-24 at $133.5 million, compared to $125.9 million in the current year. Increases are primarily related to improved interest returns for City investments as the markets continue to recover.\\n\\nInterfund Transfers Interfund transfers are contributions made by one fund to support operations in another fund, such as contributions from the General Fund to the Solid Waste Management Fund to support refuse disposal, and contributions to the Debt Service Fund to support voter-approved bond project financing. Budgeted interfund transfers for FY 23-24 are $69.1 million, compared to $66.5 million in FY 22-23.',\n",
       " 'The General Fund contribution to the Debt Service Fund increased by approximately $1.3 million. This increase is necessary to fund debt service principal and interest expenses associated with successful bond referenda in 2009, 2016, and 2022. The transfer to the Guilford Metro 911 Fund is $10.2 million, a $1.4 million increase over the current year budget due to public safety pay increases and expenses no longer covered by the State 911 Board annual disbursement. The General Fund contribution to the Solid Waste fund increases by $100,000 to $1.9 million to help support disposal and compensation cost increases. Contributions to several funds will continue at FY 22-23 levels; Coliseum at $3.4 million, Parking Fund at $3.6 million, and the Capital Leasing Fund at $1.5 million.\\n\\nAdopted 2023-24 Budget\\n\\n26\\n\\n@\\n\\nFund Balance The City of Greensboro fund balance policy states that each year, the estimated savings realized from unexpended appropriations in the General Fund shall be evaluated with respect to appropriation to the following year’s revenue budget as appropriated fund balance, to assist in financing that year’s budget. Appropriated fund balance budgets across all funds increases from $36.2 million to $43.4 million. The Water Resources Fund includes an increase of fund balance appropriations of approximately $2.7 million compared to the previous year.\\n\\nFor the General Fund, fund balance appropriation totals $6.5 million, or 1.6%, of the total General Fund budget. This is similar to the previous year appropriation of $6 million. A key priority of the Council is to improve the General Fund fund balance to meet the Local Government Commission’s requirement of 25% operational fund balance. The total appropriated fund balance amount does not include additional fund balance appropriations that will be necessary to carry forward outstanding purchase orders at the end of FY 22-23.',\n",
       " 'PROPERTY TAX RATE\\n\\nThe property tax rate for the FY 23-24 budget is 67.25 cents per $100 of assessed value, four cents higher than the adopted FY 22-23 rate. The tax rate is allocated at 62.75 cents to the General Fund, 3.50 cents to the Transit Fund, and 1.0 cents to the Nussbaum Housing Partnership Fund. The accompanying chart shows the City of Greensboro tax rates since FY04-05. The FY 24-25 projected budget is balanced with an overall tax rate of 68.75 cent, 1.50 cents above the FY 23-24 adopted rate.\\n\\nTax Rates and Valuations',\n",
       " 'Assessed Valuation\\n\\nFY 04-05* FY 05-06 FY 06-07 FY 07-08 FY 08-09 FY 09-10 FY 10-11 FY 11-12 FY 12-13* FY 13-14 FY 14-15 FY 15-16 FY 16-17 FY 17-18* FY 18-19 FY 19-20 FY 20-21 FY 21-22 FY 22-23* FY 23-24 * Property Revaluation\\n\\nThe Greensboro Area Transit Agency Fund tax rate was established in FY 90-91 to begin City participation in an improved transit system. The tax was authorized on November 8, 1988, by referendum, in an amount not to exceed 3.5 cents.\\n\\nIn FY 90-91, Municipal Service Districts were created for the College Hill and Dunleath Neighborhoods, with properties in the two neighborhoods assessed an additional .05 tax levy. In FY 11-12, the College Hill Special Tax Levy was reduced from five cents to one cent. The tax rate for these service districts is recommended to remain the same as the current year, 5 cents for the Dunleath Neighborhood and 1 cent for the College Hill Neighborhood.\\n\\nBeginning in FY 04-05 a Business Improvement District was established for downtown Greensboro to provide specialized services for the area. A separate tax rate of 9 cents is set for properties within the district boundaries, and will remain the same for FY 23-24.\\n\\nAdopted 2023-24 Budget\\n\\n27\\n\\n@',\n",
       " 'TOTAL BUDGET - POSITION CHANGES\\n\\nThe accompanying charts show the net changes in full-time equivalent (FTE) positions by Service Area and by Fund Type for FY 22-23 through projections for FY 24-25.\\n\\nThe FY 23-24 budget includes a net increase of 14.5 FTEs. Mid-year additions total 22.5 FTEs, while additional positions related to service enhancements total another 23 FTEs. To provide additional support for Police compensation increases 30 FTEs are reduced using unfilled patrol positions.\\n\\nDuring FY 22-23 several mid-year positions changes were approved to increase efficiencies and build needed capacity across the city. One (1) Application Analyst and one (1) PSIT Supervisor were added to Guilford Metro 911. Four (4) Sr. Fire Inspectors, and (1) Deputy Fire Marshall were added to the Fire Department to increase capacity in meeting state mandated inspection requirements.\\n\\nA Code Compliance Supervisor and one (1) Neighborhood Impact Manager were added to Housing and Neighborhood Development. The Neighborhood Impact Manager is funded between the Neighborhood Development Department and the Nussbaum Fund. As part of this reorganization, one (1) Community Development Analyst was transferred to the Community Development Block Grant Program, for a decrease of one (1) FTE in the operating budget.\\n\\nA vacant Crew Supervisor in Parks and Recreation was converted to the new position of Intergovernmental Affairs Manager as part of the Executive Department for one (1) additional FTE. This position was replaced in Parks and Recreation for no net increase in FTEs. Other mid-year position changes include conversion of two (2) Assistant Customer Service positions and one (1) Administrative Support Coordinator at the Greensboro Transit Agency.',\n",
       " \"Information Technology added one (1) SQL DBS Administrator, one (1) Grants Manager was added to the Finance Department, and one (1) Administrative Support Specialist was added to the Legislative Department.\\n\\nThe Coliseum converted three security positions from part-time to full time adding 0.75 FTEs, and converted one Parking Attendant at the Coliseum from part-time to full-time for an additional 0.25 FTEs. One (1) Parking Coordinator and one (1) Call Center Supervisor were added at the Tanger Center for the Performing Arts.\\n\\nIn FY 22-23 the Water Resources Department added three (3) Crew Members mid-year and underwent a reorganization that added one (1) Electrical Plant Supervisor, one (1) Mechanical Plan Supervisor, one (1) Solids Handling Maintenance Coordinator, and one (1) Wastewater Process Maintenance Coordinator.\\n\\nIn FY 22-23 the General Government Service Area implemented a multi-department reorganization. The reorganization included the transfers of the Diversity & Inclusion Officer and Equity & Inclusion Specialist from Executive to the People and Culture Department. An Executive Office Administrator and Executive Assistant transferred to the Executive Department from the Legislative Department, and the addition one (1) Executive Office Coordinator.\\n\\nThe Office of Community Safety was also established including the addition of (1) Community Outreach Coordinator and one (1) LEADS Case Coordinator, the transfer of seven (7) Behavioral Crisis Counselors, and Behavioral Crisis Leader from the Diversity, Equity & Inclusion Office and transfer of the Violence Prevention Coordinator from the City Manager's Office.\",\n",
       " 'The FY 23-24 budget includes a multi-department service enhancement for Development Services to support continuing growth in demand for development review and customer service goals. The enhancement includes a total of fifteen (15) FTEs across five departments: one (1) Planner, one (1) Planner Tech, and one (1) Zoning Enforcement Officer in the Planning Department, one (1) Plan Reviewer Supervisor, one (1) Plan Reviewer, and two (2) Construction Inspectors for the Fire Department, two (2) Civil Engineers in the Transportation Department, one (1) Electrical Plans Examiner, one (1) Sr. Electrical Trades Inspector, and one Construction Project Coordinator for the Engineering and Inspections Department, one (1) Civil Engineer and two (2) Soil Erosion Inspectors in the Water Resources Department.\\n\\nOther FY 23-24 service enhancements include one (1) Crew Supervisor, four (4) Crew Members, one (1) Heavy Equipment Operator, and one (1) Lab Coordinator in the Water Resources Department.\\n\\nAdopted 2023-24 Budget\\n\\n28\\n\\n@\\n\\nFull Time Equivalent Position Changes by Department / Fund',\n",
       " 'TOTAL\\n\\nFull Time Equivalent Position Changes by Fund Type',\n",
       " 'The table outlines the actual budget for the fiscal year 2021-22 and projected budgets for the fiscal years 2022-23, 2023-24, and 2024-25, broken down into three main categories: Personnel Costs, Maintenance & Operations, and Capital Outlay. \\n\\n**Personnel Costs** increase steadily from $263.67 million in 2021-22 to $336.54 million in 2024-25.\\n\\n**Maintenance & Operations** show a significant rise from $313.41 million in 2021-22 to $415.45 million in 2024-25.\\n\\n**Capital Outlay** fluctuates, with $12.72 million in 2021-22, peaking at $24.75 million in 2022-23, and then decreasing to $20.58 million in 2024-25.\\n\\nThe **Total Net Expenditures** also increase over the years, starting at $589.80 million in 2021-22 and reaching $772.52 million in 2024-25.',\n",
       " 'The table summarizes the budget allocations for various city departments and funds across four fiscal years: Actual 2021-22, Budget 2022-23, Adopted 2023-24, and Projected 2024-25. \\n\\n### Community Services\\n- **Key Departments/Funds:** Cemeteries Operating Fund, Hotel/Motel Occupancy Tax Fund, Human Rights, Libraries, Housing and Neighborhood Development, Nussbaum Housing Partnership Revolving Fund, Parks and Recreation.\\n- **Non-departmental Community Services Subtotal:** \\n  - Actual 2021-22: $42,032,782 \\n  - Budget 2022-23: $47,970,090 \\n  - Adopted 2023-24: $51,759,732 \\n  - Projected 2024-25: $52,681,291\\n- **Less Transfers and Internal Charges:** \\n  - Actual 2021-22: $435,706 \\n  - Budget 2022-23: $479,276 \\n  - Adopted 2023-24: $501,061 \\n  - Projected 2024-25: $501,061\\n- **Total Community Services:** \\n  - Actual 2021-22: $41,597,076 \\n  - Budget 2022-23: $47,490,814 \\n  - Adopted 2023-24: $51,258,671 \\n  - Projected 2024-25: $52,180,230\\n\\n### General Government\\n- **Key Departments/Funds:** Communications and Marketing Department, Equipment Services Fund, Executive, Financial & Administrative Services, Graphic Services Fund, Information Technology, Legal, Legislative, Network Services Fund, People & Culture, Risk Retention Funds.\\n- **Non-departmental General Government Subtotal:** \\n  - Actual 2021-22: $58,145,319 \\n  - Budget 2022-23: $66,409,852 \\n  - Adopted 2023-24: $65,726,320 \\n  - Projected 2024-25: $65,759,176\\n- **Less Transfers and Internal Charges:** \\n  - Actual 2021-22: $6,194,708 \\n  - Budget 2022-23: $6,979,319 \\n  - Adopted 2023-24: $8,792,431 \\n  - Projected 2024-25: $10,399,793\\n- **Total General Government:** \\n  - Actual 2021-22: $51,949,192 \\n  - Budget 2022-23: $59,430,533 \\n  - Adopted 2023-24: $56,933,889 \\n  - Projected 2024-25: $55,359,383\\n\\n### Total Allocations\\n- **Total Community Services and General Government:**\\n  - Actual 2021-22: $93,546,268\\n  - Budget 2022-23: $106,921,347\\n  - Adopted 2023-24: $108,192,560\\n  - Projected 2024-25: $107,539,613\\n\\nOverall, the table shows a consistent increase in budget allocations across these departments and funds over the four-year period.',\n",
       " 'It looks like the table information might be missing from your message. Could you provide the details or content of the table that you need summarized? This will help me assist you better.',\n",
       " \"The table presents budgetary data for different sectors across four fiscal years: Actual 2021-22, Budget 2022-23, Adopted 2023-24, and Projected 2024-25. Here's a summary of the key components and trends:\\n\\n### Infrastructure\\n- **Key Funds**: Includes Engineering & Inspections, Field Operations, Transit System (GTA), Parking Facilities, Planning, Solid Waste Disposal, Special Tax Districts, State Highway Allocation, Stormwater Management, Transportation, War Memorial Coliseum, Water Resources Enterprise Fund, and Non-departmental.\\n- **Actual 2021-22**: $328.6M (after transfers and internal charges: $304.4M)\\n- **Budget 2022-23**: $379.9M (after transfers and internal charges: $356.1M)\\n- **Adopted 2023-24**: $414.3M (after transfers and internal charges: $390.2M)\\n- **Projected 2024-25**: Data incomplete but follows an increasing trend.\\n\\n### Public Safety\\n- **Key Funds**: Emergency Telephone System, Fire Department, Guilford Metro Communications, Police Department, Technical Services, and Non-departmental.\\n- **Actual 2021-22**: $174.5M (after transfers and internal charges: $162.8M)\\n- **Budget 2022-23**: $189.2M (after transfers and internal charges: $175.4M)\\n- **Adopted 2023-24**: $205.7M (after transfers and internal charges: $190.4M)\\n- **Projected 2024-25**: Data incomplete but follows an increasing trend.\\n\\n### Debt Service\\n- **Key Funds**: Capital Leasing, Debt Service, Debt Service Contribution.\\n- **Actual 2021-22**: $65.3M (after transfers and internal charges: $36.5M)\\n- **Budget 2022-23**: $85.5M (after transfers and internal charges: $42.2M)\\n- **Adopted 2023-24**: $91.5M (after transfers and internal charges: $46.9M)\\n- **Projected 2024-25**: Data incomplete but follows an increasing trend.\\n\\n### Total Budget\\n- **Actual 2021-22**: $730.9M\\n- **Budget 2022-23**: $851.1M\\n- **Adopted 2023-24**: $919.3M\\n\\nOverall, the budget for all sectors shows an upward trend across the years, indicating increased funding and allocation in each subsequent fiscal year.\",\n",
       " 'The table appears to be a list of large numerical values. Here is a summary:\\n\\n- The total number of values: 24\\n- The smallest value: 1,832,416\\n- The largest value: 942,432,469\\n- The sum of all values: 2,308,394,902\\n\\nThese values likely represent significant quantities, possibly financial figures, population counts, or other large-scale data points.',\n",
       " 'The table provides a financial overview of various revenue sources for the fiscal years 2021-22 through 2024-25. Here is a summary of the key points:\\n\\n1. **Property Tax**: Rising steadily from $197.6 million in 2021-22 to $261.3 million in 2024-25.\\n2. **Sales Tax**: Increasing from $80.0 million in 2021-22 to $92.6 million in 2024-25.\\n3. **Intergovernmental Revenue**: Growing modestly from $53.6 million in 2021-22 to $56.3 million in 2024-25.\\n4. **User Charges**: Showing significant growth from $250.3 million in 2021-22 to $289.8 million in 2024-25.\\n5. **Other Revenues**: Increasing from $102.8 million in 2021-22 to $135.0 million in 2024-25.\\n6. **Interfund Transfers**: Rising from $56.3 million in 2021-22 to $69.9 million in 2024-25.\\n7. **Appropriated Fund Balance**: Fluctuating, with a peak at $73.2 million in 2021-22 and then settling to $37.6 million in 2024-25.\\n8. **Net Revenues**: Overall growth from $672.7 million in 2021-22 to $772.6 million in 2024-25.\\n\\nThe data indicates a consistent increase in total net revenues over the four-year period, driven by growth in multiple revenue streams.',\n",
       " \"The table presents data on tax rates and various funds over a series of years. Here's a summary of the key points:\\n\\n1. **Tax Rates**:  \\n   - The tax rate remains generally stable from .5675 to .6325 until it sees a slight increase to .6625 and peaks at .6725 before dropping to .5500.\\n   - The rate appears to stabilize around .5872 to .5856 for several years before another increase to .6206 and a final rate of .6275.\\n\\n2. **General Fund**:  \\n   - This fund shows a gradual increase, with some fluctuations, ranging from .5675 initially to a high of .6725.\\n\\n3. **Economic Development**:  \\n   - The rate for economic development starts at .0025 and increases modestly over the years, peaking at .0350.\\n\\n4. **Housing Partnership**:  \\n   - The rate for housing partnership remains relatively small but increases slightly from .0025 to .0350 over the period.\\n\\n5. **Transit Fund**:  \\n   - The rate for the transit fund starts at .0025 and gradually increases to .0350.\\n  \\n6. **Total Value**:  \\n   - The total value of the funds starts at about 20,958,789,781 and increases significantly over the years to reach 36,797,562,983.\\n\\nOverall, the table indicates a trend of increasing tax rates and fund values over time, with notable stability in certain periods before eventual increases.\",\n",
       " 'It looks like you intended to share a table for summarization, but it appears to be missing. Could you please provide the details or data contained in the table? This will help me generate an accurate summary for you.',\n",
       " \"The table presents a detailed budget allocation for various service areas and departments for the fiscal years 2022-23, 2023-24, and 2024-25. Here's a summarized breakdown:\\n\\n### Community Services\\n- **Includes:** Cemeteries Fund, Hotel/Motel Occupancy Tax Fund, Human Rights, Libraries, Housing and Neighborhood Development, Nussbaum Housing Partnership Fund, Parks & Recreation.\\n- **2022-23:** 330.64\\n- **2023-24:** 331.64\\n- **2024-25:** 331.64\\n\\n### General Government\\n- **Includes:** Budget and Evaluation, Communications and Marketing Department, Debt Service Fund, Equipment Services, Executive, Financial and Administrative Services, Graphic Services, Information Technology, Legal, Legislative, Network Services/Telecommunications, People & Culture, Risk Retention Funds.\\n- **2022-23:** 281.78\\n- **2023-24:** 293.78\\n- **2024-25:** 293.78\\n\\n### Infrastructure\\n- **Includes:** Engineering & Inspections, Field Operations, Greensboro Transit Agency, Parking Facilities Fund, Planning, Solid Waste Management, Stormwater Management, Transportation, War Memorial Coliseum Complex, Water Resources Enterprise.\\n- **2022-23:** 1,148.16\\n- **2023-24:** 1,168.66\\n- **2024-25:** 1,168.66\\n\\n### Public Safety\\n- **Includes:** Fire, Guilford Metro Communications, Police, Technical Services.\\n- **2022-23:** 813.38\\n- **2023-24:** 783.38\\n- **2024-25:** 783.38\\n\\n### Overall Totals\\n- **2022-23:** 3,296.95\\n- **2023-24:** 3,311.45\\n- **2024-25:** 3,311.45\\n\\n### Notable Changes\\n- **New Issues (2022-23):** Various departments saw changes such as increases or decreases in budget allocations, transfers, and mid-year changes.\\n- **Mid-Year Changes (2022-23):** An additional 19.50 was allocated across various departments.\\n\\nThis budget adjustment highlights the priorities and adjustments made over the three fiscal years, indicating slight increases in overall budget allocations for certain areas, with specific departments seeing notable changes in their budget allocations.\",\n",
       " \"It looks like there was a table intended to be provided, but it wasn't included in your message. If you share the content or details of the table, I'd be happy to help you summarize it!\",\n",
       " \"It looks like your request to summarize a table was cut off or the table itself wasn't included. Could you please provide the table or describe its contents? That way, I can help you with a summary.\",\n",
       " 'The table summarizes the financial changes across various funds from 2022-23 to 2024-25. Here are the key points:\\n\\n1. **2022-23:**\\n   - **New Issues:**\\n     - General Fund: 2,425.25\\n     - Special Revenue Funds: 22.47\\n     - Debt Service Fund: 2.05\\n     - Enterprise Funds: 637.88\\n     - Internal Service Funds: 209.30\\n     - TOTAL: 3,296.95\\n   - **Transfers:**\\n     - General Fund: -17.00\\n     - Special Revenue Funds: 0.00\\n     - Debt Service Fund: 0.00\\n     - Enterprise Funds: 13.00\\n     - Internal Service Funds: -1.00\\n     - TOTAL: -4.00\\n   - **Mid-Year Changes:**\\n     - General Fund: 12.50\\n     - Special Revenue Funds: 0.50\\n     - Debt Service Fund: 0.00\\n     - Enterprise Funds: 4.50\\n     - Internal Service Funds: 2.00\\n     - TOTAL: 19.50\\n\\n2. **2023-24 and 2024-25:**\\n   - The fund allocations remain constant for both years.\\n     - General Fund: 2,420.75\\n     - Special Revenue Funds: 21.97\\n     - Debt Service Fund: 2.05\\n     - Enterprise Funds: 655.38\\n     - Internal Service Funds: 211.30\\n     - TOTAL: 3,311.45\\n\\nThe main changes occurred in the 2022-23 fiscal year with new issues and transfers impacting the totals, followed by mid-year adjustments. The subsequent years maintain the adjusted totals.',\n",
       " 'The text written on the image is:\\n\\n- \"Debt Service 6%\"\\n- \"Community Services 7%\"\\n- \"General Government 10%\"\\n- \"Public Safety 25%\"\\n- \"Total Budget: $751,341,324\"\\n- \"Infrastructure 52%\" The text outlines budget details for the fiscal year 2023-2024, highlighting total net budget figures and allocations across different service areas. Key figures include a total net budget of $751,341,324, with significant expenditures allocated to infrastructure (52%), general government (10%), and debt service (6%). Revenue estimates are derived from prior year actuals, current year projections, trend analysis, and economic forecasts.',\n",
       " 'The text on the image reads:\\n\\n- \"Total Budget: $751,341,324\"\\n- \"General Fund 44%\"\\n- \"Enterprise Funds 34%\"\\n- \"Debt Service Fund 5%\"\\n- \"Special Rev. Funds 2%\" The adopted budget for the fiscal year 2023-24 totals $751,341,324, as outlined in the fund summary. This includes allocations for Internal Service Funds.',\n",
       " 'Internal Service Funds\\n15% The adopted budget for the fiscal year 2023-24 totals $751,341,324. This summary includes the internal service funds as part of the overall budget.',\n",
       " 'The FY 23-24 budget for all funds totals $751,341,324, marking a 9.1% increase from the revised FY 22-23 budget. Key highlights include:\\n\\n1. **Infrastructure Service Area**:\\n   - Largest budget portion at $390.2 million (52% of total).\\n   - Increased by $34 million (9.5%).\\n   - Water Resources Fund rises from $148.6 million to $166.2 million, with $32.7 million allocated for capital projects.\\n\\n2. **Field Operations Department**:\\n   - Budget increase of $2 million due to inflation and higher waste tonnage.\\n   - Disposal costs offset by proposed tipping fee increases.\\n\\n3. **Parking Fund**:\\n   - Covers operations and debt for new Eugene Street and February One Street parking decks.\\n   - General Fund to transfer $3.6 million for debt service.\\n\\n4. **Public Safety Service Area**:\\n   - Second largest budget at $190.3 million (25% of total), up by $15 million.\\n   - Includes 9 new fire positions and 20 additional police vehicles.\\n   - Continued funding for community outreach to reduce violent crime.\\n\\n5. **General Government Service Area**:\\n   - Budget increases from $67.7 million to $72.6 million.\\n   - Establishes Office of Sustainability and Office of Community Safety.\\n\\n6. **Community Services Service Area**:\\n   - Budget increases from $47.5 million to $51.2 million.\\n   - Adds positions for Neighborhood Development and Parks and Recreation enhancements.\\n\\n7. **Employee Compensation**:\\n   - 4% average merit increase and step movement for eligible employees.\\n   - Minimum wage for benefitted employees rises to $18 per hour.\\n   - Police and fire personnel receive market-based salary adjustments.\\n\\n8. **Maintenance and Operations (M&O)**:\\n   - Costs increase from $371.7 million to $405.2 million.\\n   - Includes transfers for new parking facility debt, IT support, and other services.\\n\\n9. **Capital Outlay**:\\n   - Budgeted at $22.8 million, slightly less than the previous year.\\n   - Equipment Services Fund projects $14.8 million for rolling stock replacement.\\n\\n10. **Revenue Sources**:\\n    - Telecommunications revenues decrease by 19%.\\n    - Powell Bill funds remain at $8.4 million.\\n    - Federal and state transit funding slightly decreases.\\n    - User fees and charges increase to $276.6 million, driven by Water Resources user fees.\\n    - Other revenues, including interest income and internal service charges, increase to $133.5 million.\\n\\n11. **Interfund Transfers**:\\n    - Budgeted at $69.1 million, up from $66.5 million.\\n    - Includes increased contributions to Debt Service Fund, Guilford Metro 911 Fund, and Solid Waste Fund.\\n\\n12. **Fund Balance**:\\n    - Appropriated fund balance across all funds increases to $43.4 million.\\n    - General Fund appropriation remains similar to the previous year at $6.5 million.\\n    - Focus on meeting the Local Government Commission’s 25% operational fund balance requirement.\\n\\nOverall, the budget reflects significant investments in infrastructure, public safety, and community services, alongside adjustments for inflation and increased operational costs.',\n",
       " 'The provided context outlines significant changes and projections in the budget and staffing for a fiscal period, focusing on debt service, personnel costs, and departmental enhancements.\\n\\n### Debt Service\\n- **Increase in Debt Service**: The Debt Service service area budget increases from $42.2 million to $46.9 million, representing 6% of total budget expenses.\\n- **Expenditures**: These include principal and interest payments for all outstanding general obligation bonds, including $126 million in bonds approved in 2016 and $135 million in bonds approved in 2022.\\n- **2022 Bonds**: Funding from these bonds is allocated to Parks & Recreation, Housing, Police, Fire, and Transportation projects.\\n- **IT Improvements**: A transfer of $1.5 million to the Capital Leasing Fund supports critical information technology improvements.\\n\\n### Budget Projections\\n- **FY 24-25 Budget**: Projected to be $21.2 million (2.8%) higher than the FY 23-24 recommended budget.\\n- **Personnel Costs**: Budgeted personnel costs are 10.6% higher than the FY 22-23 revised budget, with an increase of 44.5 full-time equivalent (FTE) positions.\\n\\n### Personnel Changes\\n- **New Positions**: \\n  - **Development Services**: 15 new FTEs across Planning, Engineering & Inspections, Transportation, Fire, and Water Resources to meet increased demand.\\n  - **Fire Department**: 5 new FTEs for compliance inspectors.\\n  - **Water Resources**: 4 new FTEs for a sewer maintenance crew and 1 FTE for a laboratory coordinator.\\n  - **Police Department**: 30 FTEs reduced from unfilled patrol positions to support increased compensation.\\n- **Net Impact**: Overall, there is an increase of 14.5 FTEs compared to the adopted FY 22-23 budget.\\n\\n### Mid-Year Additions and Changes (FY 22-23)\\n- **Guilford Metro 911**: Added 1 Application Analyst and 1 PSIT Supervisor.\\n- **Fire Department**: Added 4 Sr. Fire Inspectors and 1 Deputy Fire Marshall.\\n- **Housing and Neighborhood Development**: Added 1 Code Compliance Supervisor and 1 Neighborhood Impact Manager.\\n- **Parks and Recreation**: Converted a vacant Crew Supervisor position to an Intergovernmental Affairs Manager.\\n- **Greensboro Transit Agency**: Converted 2 Assistant Customer Service positions and 1 Administrative Support Coordinator.\\n- **Information Technology**: Added 1 SQL DBS Administrator.\\n- **Finance Department**: Added 1 Grants Manager.\\n- **Legislative Department**: Added 1 Administrative Support Specialist.\\n- **Coliseum**: Converted 3 part-time security positions to full-time, adding 0.75 FTEs, and converted 1 Parking Attendant from part-time to full-time, adding 0.25 FTEs.\\n- **Tanger Center for the Performing Arts**: Added 1 Parking Coordinator and 1 Call Center Supervisor.\\n- **Water Resources Department**: Added 3 Crew Members and underwent a reorganization adding several supervisory and coordinator positions.\\n- **General Government Service Area**: Implemented a multi-department reorganization, including transfers and additions in the Diversity & Inclusion Office, Executive Department, and the establishment of the Office of Community Safety.\\n\\n### FY 23-24 Service Enhancements\\n- **Development Services**: 15 new FTEs across five departments to support growth in development review and customer service goals.\\n- **Water Resources Department**: Added 1 Crew Supervisor, 4 Crew Members, 1 Heavy Equipment Operator, and 1 Lab Coordinator.\\n\\n### Summary\\nThe context details a comprehensive overview of budget increases, particularly in debt service and personnel costs, along with significant staffing changes across various departments to enhance service delivery and meet increased demand. The net effect is a strategic reallocation and addition of FTEs to support critical areas such as development services, fire inspections, and water resources, while also addressing compensation needs in the police department.',\n",
       " \"The provided context outlines the adopted budget for the fiscal year 2023-24, along with actual and projected budgets for the fiscal years 2021-22, 2022-23, and 2024-25. The budget is broken down into several service areas, with detailed allocations for Community Services and General Government.\\n\\n### Key Highlights:\\n\\n#### Overall Budget Trends:\\n- **Personnel Costs**: Increase from $263.67 million in 2021-22 to $336.54 million in 2024-25.\\n- **Maintenance & Operations**: Rise from $313.41 million in 2021-22 to $415.45 million in 2024-25.\\n- **Capital Outlay**: Fluctuates, peaking at $24.75 million in 2022-23 and then decreasing to $20.58 million in 2024-25.\\n- **Total Net Expenditures**: Increase from $589.80 million in 2021-22 to $772.52 million in 2024-25.\\n\\n### Community Services:\\n- **Key Departments/Funds**: Cemeteries Operating Fund, Hotel/Motel Occupancy Tax Fund, Human Rights, Libraries, Housing and Neighborhood Development, Nussbaum Housing Partnership Revolving Fund, Parks and Recreation.\\n- **Non-departmental Community Services Subtotal**:\\n  - 2021-22: $42,032,782\\n  - 2022-23: $47,970,090\\n  - 2023-24: $51,759,732\\n  - 2024-25: $52,681,291\\n- **Less Transfers and Internal Charges**:\\n  - 2021-22: $435,706\\n  - 2022-23: $479,276\\n  - 2023-24: $501,061\\n  - 2024-25: $501,061\\n- **Total Community Services**:\\n  - 2021-22: $41,597,076\\n  - 2022-23: $47,490,814\\n  - 2023-24: $51,258,671\\n  - 2024-25: $52,180,230\\n\\n### General Government:\\n- **Key Departments/Funds**: Communications and Marketing Department, Equipment Services Fund, Executive, Financial & Administrative Services, Graphic Services Fund, Information Technology, Legal, Legislative, Network Services Fund, People & Culture, Risk Retention Funds.\\n- **Non-departmental General Government Subtotal**:\\n  - 2021-22: $58,145,319\\n  - 2022-23: $66,409,852\\n  - 2023-24: $65,726,320\\n  - 2024-25: $65,759,176\\n- **Less Transfers and Internal Charges**:\\n  - 2021-22: $6,194,708\\n  - 2022-23: $6,979,319\\n  - 2023-24: $8,792,431\\n  - 2024-25: $10,399,793\\n- **Total General Government**:\\n  - 2021-22: $51,949,192\\n  - 2022-23: $59,430,533\\n  - 2023-24: $56,933,889\\n  - 2024-25: $55,359,383\\n\\n### Total Allocations:\\n- **Total Community Services and General Government**:\\n  - 2021-22: $93,546,268\\n  - 2022-23: $106,921,347\\n  - 2023-24: $108,192,560\\n  - 2024-25: $107,539,613\\n\\n### Service Area Breakdown:\\n- **Community Services**:\\n  - 2022-23: 330.64\\n  - 2023-24: 331.64\\n  - 2024-25: 331.64\\n- **General Government**:\\n  - 2022-23: 281.78\\n  - 2023-24: 293.78\\n  - 2024-25: 293.78\\n- **Infrastructure**:\\n  - 2022-23: 1,148.16\\n  - 2023-24: 1,168.66\\n  - 2024-25: 1,168.66\\n- **Public Safety**:\\n  - 2022-23: 813.38\\n  - 2023-24: 783.38\\n  - 2024-25: 783.38\\n\\n### Overall Totals:\\n- **2022-23**: 3,296.95\\n- **2023-24**: 3,311.45\\n- **2024-25**: 3,311.45\\n\\n### Notable Changes:\\n- **New Issues (2022-23)**: Various departments saw changes such as increases or decreases in budget allocations, transfers, and mid-year changes.\\n- **Mid-Year Changes (2022-23)**: An additional 19.50 was allocated across various departments.\\n\\nThe budget adjustments reflect the city's priorities and adjustments over the three fiscal years, indicating slight increases in overall budget allocations for certain areas, with specific departments seeing notable changes in their budget allocations.\",\n",
       " 'The provided context outlines the financial details and budget allocations for the fiscal year 2023-2024. Here is a detailed summary:\\n\\n### Total Net Budget\\n- **2022-23:** \\n  - Initial budget: $141,085,305\\n  - Adjusted budget: $589,800,622\\n- **2023-24:** \\n  - Initial budget: $162,178,706\\n  - Adjusted budget: $688,930,551\\n- **2024-25:** \\n  - Initial budget: $167,918,671\\n  - Adjusted budget: $751,341,324\\n\\n### Expenditures by Service Area for FY 2023-24\\n- **Total Budget:** $751,341,324\\n- **Allocations:**\\n  - Debt Service: 6%\\n  - General Government: 10%\\n  - Infrastructure: 52%\\n  - Community Services: 7%\\n  - Public Safety: 25%\\n\\n### Revenue Estimates\\nRevenue estimates are based on:\\n- Actual prior year amounts\\n- Current year projections\\n- Trend analysis\\n- General economic forecasts\\n\\n### Financial Changes Across Various Funds (2022-23 to 2024-25)\\n#### 2022-23:\\n- **New Issues:**\\n  - General Fund: 2,425.25\\n  - Special Revenue Funds: 22.47\\n  - Debt Service Fund: 2.05\\n  - Enterprise Funds: 637.88\\n  - Internal Service Funds: 209.30\\n  - **Total:** 3,296.95\\n- **Transfers:**\\n  - General Fund: -17.00\\n  - Special Revenue Funds: 0.00\\n  - Debt Service Fund: 0.00\\n  - Enterprise Funds: 13.00\\n  - Internal Service Funds: -1.00\\n  - **Total:** -4.00\\n- **Mid-Year Changes:**\\n  - General Fund: 12.50\\n  - Special Revenue Funds: 0.50\\n  - Debt Service Fund: 0.00\\n  - Enterprise Funds: 4.50\\n  - Internal Service Funds: 2.00\\n  - **Total:** 19.50\\n\\n#### 2023-24 and 2024-25:\\n- **Fund Allocations (constant for both years):**\\n  - General Fund: 2,420.75\\n  - Special Revenue Funds: 21.97\\n  - Debt Service Fund: 2.05\\n  - Enterprise Funds: 655.38\\n  - Internal Service Funds: 211.30\\n  - **Total:** 3,311.45\\n\\n### Fund Summary for FY 2023-24\\n- **Total Budget:** $751,341,324\\n- **Allocations:**\\n  - General Fund: 44%\\n  - Enterprise Funds: 34%\\n  - Debt Service Fund: 5%\\n  - Special Revenue Funds: 2%\\n  - Internal Service Funds: 15%\\n\\n### Key Points\\n- The total net budget for FY 2023-24 is $751,341,324.\\n- Significant expenditures are allocated to infrastructure (52%), general government (10%), and debt service (6%).\\n- Revenue estimates are based on historical data, current projections, trend analysis, and economic forecasts.\\n- The financial changes from 2022-23 to 2024-25 show adjustments in new issues, transfers, and mid-year changes, with fund allocations remaining constant for 2023-24 and 2024-25.\\n\\nThis summary provides a comprehensive overview of the budget allocations, revenue estimates, and financial changes for the specified fiscal years.',\n",
       " 'The provided context outlines the fiscal year (FY) 2023-2024 budget recommendations for property taxes, local option sales tax, and intergovernmental revenues for a specific jurisdiction, likely Greensboro, North Carolina. Here is a detailed summary:\\n\\n### Property Taxes\\n- **Tax Rate**: The recommended property tax rate for FY 23-24 is 67.25 cents per $100 of assessed value, which is a 4-cent increase from the FY 22-23 rate.\\n- **Allocation**: The tax rate is divided as follows:\\n  - 62.75 cents to the General Fund\\n  - 3.50 cents to the Transit Fund\\n  - 1.00 cent to the Housing Partnership Fund\\n- **Revenue**: Property taxes are budgeted at $251.9 million, an increase of $18.6 million (7.9%) from the amended current year budget. Property taxes constitute about 33.6% of total net revenues.\\n- **Tax Base**: The tax base is estimated at $37.4 billion with a growth rate of approximately 1.75% for FY 23-24.\\n\\n### Local Option Sales Tax\\n- **Authority**: The State of North Carolina allows counties to levy a general local sales tax of up to 2.0%. Additional taxes for public transportation and restricted county purposes can also be levied, subject to voter approval.\\n- **Current Rates**: The general state sales tax is 4.75%, and Guilford County levies a 2.0% general sales tax.\\n- **Revenue**: Sales tax revenue for FY 23-24 is projected at $88.6 million, an increase of $7.6 million from the amended FY 22-23 budget. This represents a growth rate of approximately 11% compared to FY 21-22 actuals and a 4% increase compared to current estimates for FY 22-23.\\n- **Distribution Impact**: Due to the impact of sales tax distribution based on the overall Guilford County tax levy, receipts for FY 23-24 are expected to decrease by approximately $3 million. This occurs when the City changes tax rates by a lower amount compared to other jurisdictions in the county.\\n- **Contribution**: Local option sales tax revenues make up about 9.6% of total net revenues.\\n\\n### Intergovernmental Revenue\\n- **Sources**: These revenues include state-collected taxes returned to local governments, such as the Beer and Wine Tax, Utility Sales Taxes, and various cable and satellite service sales taxes. It also includes contributions from Guilford County for the City’s Library System and federal and state grants supporting the Greensboro Transit Agency.\\n- **Revenue**: Intergovernmental revenues are budgeted at approximately $56.2 million, an increase of $1.3 million from the revised current year budget. Electric Utility and Piped Natural Gas sales revenues are budgeted at $19.5 million, which is $1.4 million (7.7%) higher than the FY 22-23 budgeted amount.\\n\\n### Historical Context and Special Districts\\n- **Historical Tax Rates**: The document provides a historical overview of tax rates and valuations since FY 04-05, noting property revaluations in certain years.\\n- **Transit Fund**: The Greensboro Area Transit Agency Fund tax rate was established in FY 90-91 following a 1988 referendum.\\n- **Municipal Service Districts**: Created in FY 90-91 for the College Hill and Dunleath Neighborhoods, with specific tax levies for each. The College Hill Special Tax Levy was reduced in FY 11-12.\\n- **Business Improvement District**: Established in FY 04-05 for downtown Greensboro, with a separate tax rate of 9 cents, which remains unchanged for FY 23-24.\\n\\n### Future Projections\\n- **FY 24-25**: The projected budget for FY 24-25 is balanced with an overall tax rate of 68.75 cents, which is 1.50 cents higher than the FY 23-24 adopted rate.\\n\\nThis summary encapsulates the key financial elements and tax rate changes proposed for the upcoming fiscal year, providing a comprehensive overview of the budgetary allocations and expected revenue streams.',\n",
       " 'The provided context appears to be a heading or title related to changes in Full Time Equivalent (FTE) positions categorized by different fund types. Here is a detailed summary based on the given context:\\n\\n1. **Full Time Equivalent (FTE) Positions**: This refers to a unit that indicates the workload of an employed person in a way that makes workloads comparable across various contexts. One FTE is equivalent to one full-time worker, but the term can also encompass part-time workers whose combined hours are equivalent to a full-time position.\\n\\n2. **Position Changes**: This implies that there have been adjustments or modifications in the number of FTE positions. These changes could be due to various factors such as budget cuts, organizational restructuring, new project initiations, or changes in funding.\\n\\n3. **By Fund Type**: This indicates that the changes in FTE positions are being categorized based on the type of funding source. Fund types could include general funds, special revenue funds, enterprise funds, internal service funds, and others. Each fund type typically has specific sources of revenue and designated purposes for expenditure.\\n\\n4. **TOTAL**: This suggests that the summary or report will provide an aggregate or overall view of the FTE position changes across all fund types. It may include a total count of positions added, removed, or reallocated.\\n\\nIn essence, the context is likely referring to a report or analysis that details how the number of full-time equivalent positions has changed, broken down by the different types of funds that support these positions. The total figure would give a comprehensive view of the overall impact of these changes.',\n",
       " \"It seems like there was an attempt to share a table for summarization, but the actual table data wasn't included in the message. However, based on the provided summary, here are the key points:\\n\\n1. **Total Number of Values**: 24\\n2. **Smallest Value**: 1,832,416\\n3. **Largest Value**: 942,432,469\\n4. **Sum of All Values**: 2,308,394,902\\n\\nThese values likely represent significant quantities, which could be financial figures, population counts, or other large-scale data points. Without the actual table, it's challenging to provide more specific insights, but the summary indicates a wide range of large numerical values.\\n\\nIf you can provide the actual table or more details about its contents, I can offer a more detailed and accurate summary.\",\n",
       " 'The provided context outlines budgetary data and trends for various sectors and revenue sources across four fiscal years: Actual 2021-22, Budget 2022-23, Adopted 2023-24, and Projected 2024-25. Here is a detailed summary of the key components and trends:\\n\\n### Budgetary Data by Sector\\n\\n#### Infrastructure\\n- **Key Funds**: This sector includes a wide range of funds such as Engineering & Inspections, Field Operations, Transit System (GTA), Parking Facilities, Planning, Solid Waste Disposal, Special Tax Districts, State Highway Allocation, Stormwater Management, Transportation, War Memorial Coliseum, Water Resources Enterprise Fund, and Non-departmental.\\n- **Trends**:\\n  - **Actual 2021-22**: $328.6M (net: $304.4M)\\n  - **Budget 2022-23**: $379.9M (net: $356.1M)\\n  - **Adopted 2023-24**: $414.3M (net: $390.2M)\\n  - **Projected 2024-25**: Data incomplete but shows an increasing trend.\\n\\n#### Public Safety\\n- **Key Funds**: Includes Emergency Telephone System, Fire Department, Guilford Metro Communications, Police Department, Technical Services, and Non-departmental.\\n- **Trends**:\\n  - **Actual 2021-22**: $174.5M (net: $162.8M)\\n  - **Budget 2022-23**: $189.2M (net: $175.4M)\\n  - **Adopted 2023-24**: $205.7M (net: $190.4M)\\n  - **Projected 2024-25**: Data incomplete but shows an increasing trend.\\n\\n#### Debt Service\\n- **Key Funds**: Includes Capital Leasing, Debt Service, and Debt Service Contribution.\\n- **Trends**:\\n  - **Actual 2021-22**: $65.3M (net: $36.5M)\\n  - **Budget 2022-23**: $85.5M (net: $42.2M)\\n  - **Adopted 2023-24**: $91.5M (net: $46.9M)\\n  - **Projected 2024-25**: Data incomplete but shows an increasing trend.\\n\\n#### Total Budget\\n- **Trends**:\\n  - **Actual 2021-22**: $730.9M\\n  - **Budget 2022-23**: $851.1M\\n  - **Adopted 2023-24**: $919.3M\\n\\nOverall, the budget for all sectors shows an upward trend, indicating increased funding and allocation in each subsequent fiscal year.\\n\\n### Revenue Sources\\n\\n1. **Property Tax**: \\n   - Rising steadily from $197.6M in 2021-22 to $261.3M in 2024-25.\\n2. **Sales Tax**: \\n   - Increasing from $80.0M in 2021-22 to $92.6M in 2024-25.\\n3. **Intergovernmental Revenue**: \\n   - Growing modestly from $53.6M in 2021-22 to $56.3M in 2024-25.\\n4. **User Charges**: \\n   - Showing significant growth from $250.3M in 2021-22 to $289.8M in 2024-25.\\n5. **Other Revenues**: \\n   - Increasing from $102.8M in 2021-22 to $135.0M in 2024-25.\\n6. **Interfund Transfers**: \\n   - Rising from $56.3M in 2021-22 to $69.9M in 2024-25.\\n7. **Appropriated Fund Balance**: \\n   - Fluctuating, with a peak at $73.2M in 2021-22 and then settling to $37.6M in 2024-25.\\n8. **Net Revenues**: \\n   - Overall growth from $672.7M in 2021-22 to $772.6M in 2024-25.\\n\\nThe data indicates a consistent increase in total net revenues over the four-year period, driven by growth in multiple revenue streams.\\n\\n### Tax Rates and Fund Values\\n\\n1. **Tax Rates**: \\n   - The tax rate remains generally stable from .5675 to .6325, sees a slight increase to .6625, peaks at .6725, then drops to .5500. It stabilizes around .5872 to .5856 for several years before another increase to .6206 and a final rate of .6275.\\n2. **General Fund**: \\n   - Shows a gradual increase, with some fluctuations, ranging from .5675 initially to a high of .6725.\\n3. **Economic Development**: \\n   - Starts at .0025 and increases modestly over the years, peaking at .0350.\\n4. **Housing Partnership**: \\n   - Remains relatively small but increases slightly from .0025 to .0350 over the period.\\n5. **Transit Fund**: \\n   - Starts at .0025 and gradually increases to .0350.\\n6. **Total Value**: \\n   - Starts at about $20.96B and increases significantly over the years to reach $36.80B.\\n\\nOverall, the table indicates a trend of increasing tax rates and fund values over time, with notable stability in certain periods before eventual increases.',\n",
       " 'The provided context outlines the fiscal year (FY) 2023-2024 budget for a specific jurisdiction, likely Greensboro, North Carolina, detailing significant changes, projections, and allocations across various service areas and revenue sources. Here is a comprehensive summary:\\n\\n### Total Budget Overview\\n- **FY 23-24 Total Budget**: $751,341,324\\n- **Increase from FY 22-23**: 9.1%\\n\\n### Key Service Areas and Allocations\\n\\n1. **Infrastructure Service Area**\\n   - **Total Budget**: $390.2 million (52% of total budget)\\n   - **Increase**: $34 million (9.5%)\\n   - **Water Resources Fund**: Increased from $148.6 million to $166.2 million, with $32.7 million allocated for capital projects.\\n\\n2. **Field Operations Department**\\n   - **Budget Increase**: $2 million due to inflation and higher waste tonnage.\\n   - **Offset**: Proposed tipping fee increases.\\n\\n3. **Parking Fund**\\n   - **Coverage**: Operations and debt for new Eugene Street and February One Street parking decks.\\n   - **General Fund Transfer**: $3.6 million for debt service.\\n\\n4. **Public Safety Service Area**\\n   - **Total Budget**: $190.3 million (25% of total budget)\\n   - **Increase**: $15 million\\n   - **New Positions**: 9 new fire positions and 20 additional police vehicles.\\n   - **Community Outreach**: Continued funding to reduce violent crime.\\n\\n5. **General Government Service Area**\\n   - **Budget Increase**: From $67.7 million to $72.6 million.\\n   - **New Offices**: Establishment of the Office of Sustainability and the Office of Community Safety.\\n\\n6. **Community Services Service Area**\\n   - **Budget Increase**: From $47.5 million to $51.2 million.\\n   - **New Positions**: For Neighborhood Development and Parks and Recreation enhancements.\\n\\n7. **Employee Compensation**\\n   - **Merit Increase**: 4% average merit increase and step movement for eligible employees.\\n   - **Minimum Wage**: Increased to $18 per hour for benefitted employees.\\n   - **Market-Based Adjustments**: For police and fire personnel.\\n\\n8. **Maintenance and Operations (M&O)**\\n   - **Cost Increase**: From $371.7 million to $405.2 million.\\n   - **Includes**: Transfers for new parking facility debt, IT support, and other services.\\n\\n9. **Capital Outlay**\\n   - **Budget**: $22.8 million, slightly less than the previous year.\\n   - **Equipment Services Fund**: Projects $14.8 million for rolling stock replacement.\\n\\n### Revenue Sources\\n\\n1. **Telecommunications Revenues**: Decrease by 19%.\\n2. **Powell Bill Funds**: Remain at $8.4 million.\\n3. **Federal and State Transit Funding**: Slight decrease.\\n4. **User Fees and Charges**: Increase to $276.6 million, driven by Water Resources user fees.\\n5. **Other Revenues**: Including interest income and internal service charges, increase to $133.5 million.\\n\\n### Interfund Transfers\\n- **Budgeted**: $69.1 million, up from $66.5 million.\\n- **Includes**: Increased contributions to Debt Service Fund, Guilford Metro 911 Fund, and Solid Waste Fund.\\n\\n### Fund Balance\\n- **Appropriated Fund Balance**: Increases to $43.4 million.\\n- **General Fund Appropriation**: Remains similar to the previous year at $6.5 million.\\n- **Focus**: Meeting the Local Government Commission’s 25% operational fund balance requirement.\\n\\n### Debt Service\\n- **Budget Increase**: From $42.2 million to $46.9 million (6% of total budget).\\n- **Expenditures**: Principal and interest payments for all outstanding general obligation bonds, including $126 million in bonds approved in 2016 and $135 million in bonds approved in 2022.\\n- **IT Improvements**: $1.5 million transfer to the Capital Leasing Fund for critical information technology improvements.\\n\\n### Budget Projections\\n- **FY 24-25 Budget**: Projected to be $21.2 million (2.8%) higher than the FY 23-24 recommended budget.\\n- **Personnel Costs**: Budgeted personnel costs are 10.6% higher than the FY 22-23 revised budget, with an increase of 44.5 full-time equivalent (FTE) positions.\\n\\n### Personnel Changes\\n- **New Positions**: \\n  - **Development Services**: 15 new FTEs across Planning, Engineering & Inspections, Transportation, Fire, and Water Resources.\\n  - **Fire Department**: 5 new FTEs for compliance inspectors.\\n  - **Water Resources**: 4 new FTEs for a sewer maintenance crew and 1 FTE for a laboratory coordinator.\\n  - **Police Department**: 30 FTEs reduced from unfilled patrol positions to support increased compensation.\\n- **Net Impact**: Overall, an increase of 14.5 FTEs compared to the adopted FY 22-23 budget.\\n\\n### Mid-Year Additions and Changes (FY 22-23)\\n- **Guilford Metro 911**: Added 1 Application Analyst and 1 PSIT Supervisor.\\n- **Fire Department**: Added 4 Sr. Fire Inspectors and 1 Deputy Fire Marshall.\\n- **Housing and Neighborhood Development**: Added 1 Code Compliance Supervisor and 1 Neighborhood Impact Manager.\\n- **Parks and Recreation**: Converted a vacant Crew Supervisor position to an Intergovernmental Affairs Manager.\\n- **Greensboro Transit Agency**: Converted 2 Assistant Customer Service positions and 1 Administrative Support Coordinator.\\n- **Information Technology**: Added 1 SQL DBS Administrator.\\n- **Finance Department**: Added 1 Grants Manager.\\n- **Legislative Department**: Added 1 Administrative Support Specialist.\\n- **Coliseum**: Converted 3 part-time security positions to full-time, adding 0.75 FTEs, and converted 1 Parking Attendant from part-time to full-time, adding 0.25 FTEs.\\n- **Tanger Center for the Performing Arts**: Added 1 Parking Coordinator and 1 Call Center Supervisor.\\n- **Water Resources Department**: Added 3 Crew Members and underwent a reorganization adding several supervisory and coordinator positions.\\n- **General Government Service Area**: Implemented a multi-department reorganization, including transfers and additions in the Diversity & Inclusion Office, Executive Department, and the establishment of the Office of Community Safety.\\n\\n### FY 23-24 Service Enhancements\\n- **Development Services**: 15 new FTEs across five departments to support growth in development review and customer service goals.\\n- **Water Resources Department**: Added 1 Crew Supervisor, 4 Crew Members, 1 Heavy Equipment Operator, and 1 Lab Coordinator.\\n\\n### Summary\\nThe FY 23-24 budget reflects significant investments in infrastructure, public safety, and community services, alongside adjustments for inflation and increased operational costs. The budget also includes strategic reallocation and addition of FTEs to support critical areas such as development services, fire inspections, and water resources, while addressing compensation needs in the police department. The overall financial strategy aims to balance growth and sustainability, ensuring the city meets its operational and service delivery goals.']"
      ]
     },
     "execution_count": 60,
     "metadata": {},
     "output_type": "execute_result"
    }
   ],
   "source": [
    "all_texts"
   ]
  },
  {
   "cell_type": "code",
   "execution_count": 61,
   "metadata": {},
   "outputs": [
    {
     "data": {
      "text/plain": [
       "43"
      ]
     },
     "execution_count": 61,
     "metadata": {},
     "output_type": "execute_result"
    }
   ],
   "source": [
    "len(all_texts)"
   ]
  },
  {
   "cell_type": "code",
   "execution_count": 62,
   "metadata": {},
   "outputs": [],
   "source": [
    "def num_tokens_from_string(string: str, encoding_name: str) -> int:\n",
    "    \"\"\"Returns the number of tokens in a text string.\"\"\"\n",
    "    encoding = tiktoken.get_encoding(encoding_name)\n",
    "    num_tokens = len(encoding.encode(string))\n",
    "    return num_tokens"
   ]
  },
  {
   "cell_type": "code",
   "execution_count": 63,
   "metadata": {},
   "outputs": [
    {
     "data": {
      "text/plain": [
       "<function matplotlib.pyplot.show(close=None, block=None)>"
      ]
     },
     "execution_count": 63,
     "metadata": {},
     "output_type": "execute_result"
    },
    {
     "data": {
      "image/png": "[encoded data removed]",
      "text/plain": [
       "<Figure size 1000x600 with 1 Axes>"
      ]
     },
     "metadata": {},
     "output_type": "display_data"
    }
   ],
   "source": [
    "# Calculate the number of tokens for each document\n",
    "counts = [num_tokens_from_string(d, \"cl100k_base\") for d in docs_texts]\n",
    "\n",
    "# Plotting the histogram of token counts\n",
    "plt.figure(figsize=(10, 6))\n",
    "plt.hist(counts, bins=30, color=\"blue\", edgecolor=\"black\", alpha=0.7)\n",
    "plt.title(\"Histogram of Token Counts\")\n",
    "plt.xlabel(\"Token Count\")\n",
    "plt.ylabel(\"Frequency\")\n",
    "plt.grid(axis=\"y\", alpha=0.75)\n",
    "\n",
    "# Display the histogram\n",
    "plt.show"
   ]
  },
  {
   "cell_type": "code",
   "execution_count": null,
   "metadata": {},
   "outputs": [],
   "source": []
  },
  {
   "cell_type": "code",
   "execution_count": null,
   "metadata": {},
   "outputs": [],
   "source": []
  },
  {
   "cell_type": "code",
   "execution_count": null,
   "metadata": {},
   "outputs": [],
   "source": []
  },
  {
   "cell_type": "code",
   "execution_count": 64,
   "metadata": {},
   "outputs": [],
   "source": [
    "documents=[]"
   ]
  },
  {
   "cell_type": "code",
   "execution_count": 65,
   "metadata": {},
   "outputs": [
    {
     "name": "stdout",
     "output_type": "stream",
     "text": [
      "text_element done\n"
     ]
    }
   ],
   "source": [
    "def get_documents_with_raptor(raptor_text):\n",
    "    for s in raptor_text:\n",
    "        i = str(uuid.uuid4())\n",
    "        doc = Document(\n",
    "            page_content = s,\n",
    "            metadata = {\n",
    "                'id': i,\n",
    "                'type': 'text',\n",
    "                'original_content': s\n",
    "            }\n",
    "        )\n",
    "        documents.append(doc)\n",
    "\n",
    "    return documents"
   ]
  },
  {
   "cell_type": "code",
   "execution_count": 66,
   "metadata": {},
   "outputs": [
    {
     "data": {
      "text/plain": [
       "[Document(page_content=\"TOTAL BUDGET - EXPENDITURES\\n\\nThe FY 23-24 net budget (for all funds) of $751,341,324 is $62,410,773 million, or 9.1%, higher than the revised FY 22-23 budget.\\n\\nThe Infrastructure service area is the largest portion of the total budget, at $390.2 million, or 52%, of the total budget. The service area budget is $34.0 million, or 9.5%, greater than the revised current year budget. The Water Resources Fund increases from $148.6 million to $166.2 million, a difference of $17.6 million. Balancing current financing, or “pay-as-you-go” capital project financing with debt financing, Water Resources will transfer $32.7 million to various capital reserve and capital improvement funds for significant system maintenance projects.\\n\\nThe Field Operations Department budget includes funding necessary to meet increased costs associated with the City's solid waste collections program. Net costs for these programs increase by $2 million in FY 23-24 due to projected inflationary and tonnage increases. Growing disposal costs will be partially offset by proposed tipping fee increases.\\n\\nThe Parking Fund includes operations and debt service costs associated with the new Eugene Street and February One Street parking decks. The Eugene Street deck was completed in FY 22-23, and the February One Street parking deck is under construction and expected to be completed in FY 23-24. The General Fund began providing debt service support for the decks in FY 22-23. The General Fund will transfer approximately $3.6 million to the Parking Operations Fund to support debt service in FY 23-24.\", metadata={'id': 'f3594531-4c63-4cc1-b61d-014191860063', 'type': 'text'}),\n",
       " Document(page_content=\"TOTAL BUDGET - EXPENDITURES\\n\\nThe FY 23-24 net budget (for all funds) of $751,341,324 is $62,410,773 million, or 9.1%, higher than the revised FY 22-23 budget.\\n\\nThe Infrastructure service area is the largest portion of the total budget, at $390.2 million, or 52%, of the total budget. The service area budget is $34.0 million, or 9.5%, greater than the revised current year budget. The Water Resources Fund increases from $148.6 million to $166.2 million, a difference of $17.6 million. Balancing current financing, or “pay-as-you-go” capital project financing with debt financing, Water Resources will transfer $32.7 million to various capital reserve and capital improvement funds for significant system maintenance projects.\\n\\nThe Field Operations Department budget includes funding necessary to meet increased costs associated with the City's solid waste collections program. Net costs for these programs increase by $2 million in FY 23-24 due to projected inflationary and tonnage increases. Growing disposal costs will be partially offset by proposed tipping fee increases.\\n\\nThe Parking Fund includes operations and debt service costs associated with the new Eugene Street and February One Street parking decks. The Eugene Street deck was completed in FY 22-23, and the February One Street parking deck is under construction and expected to be completed in FY 23-24. The General Fund began providing debt service support for the decks in FY 22-23. The General Fund will transfer approximately $3.6 million to the Parking Operations Fund to support debt service in FY 23-24.\", metadata={'id': 'e72e1413-83e5-4130-99d6-7ebb6401a8f2', 'type': 'text'}),\n",
       " Document(page_content='The Public Safety service area increases from $175.4 million to $190.3 million, or $15.0 million. This is the second largest service area, accounting for 25% of the total budget. The service area includes the addition of 9 fire positions for inspections and permits. The continuation of the police vehicle take home program is included with 20 additional vehicles being added to the fleet for a total cost of approximately $1.7 million. Since implementation in FY 20-21, over 40 patrol vehicles have been added, with a total of more than 100 patrol vehicles projected to be added for the program over the next several years. The budget also includes continued funding for community outreach efforts to decrease violent crime through neighborhood engagement.\\n\\nThe General Government service area increases from $67.7 to $72.6, or $4.9 million dollars. This service area accounts for 10% of the total budget. A reorganization of several departments and divisions in the General Government service area is included to establish the Office of Sustainability and the Office of Community Safety.\\n\\nThe Community Services service area increases from $47.5 million to $51.2 million, or $3.7 million, approximately 7% of the total budget. Neighborhood Development adds a Neighborhood Impact Manager and Code Compliance Field Supervisor as part of a reorganization to enhance community housing and code enforcement services. The Parks and Recreation budget includes approximately $580,000 for costs related to contracted services including mowing and security, Gillespie Golf Course maintenance, and additional support for LeBauer Park.', metadata={'id': '4a438116-6f9d-45e9-9b5f-37e80f62f8cc', 'type': 'text'}),\n",
       " Document(page_content='The Debt Service service area increases from $42.2 million to $46.9 million, or 6% of total budget expenses. The Debt Service Fund expenditures include principal and interest payments for all outstanding general obligation bonds, including $126 million in bonds approved by voters in 2016 and $135 million in bonds approved by voters in 2022. The 2022 Bonds include funding for Parks & Recreation, Housing, Police, Fire, and Transportation projects. Critical information technology improvements for software, systems, and security is supported through a transfer of $1.5 million to the Capital Leasing Fund.\\n\\nThe FY 24-25 projected budget is $21.2 million, or 2.8%, higher than the FY 23-24 recommended budget.\\n\\nBudgeted personnel costs are 10.6% higher than the FY22-23 revised budget, including an increase of 44.5 full-time equivalent (FTE) positions within the total operating budget. New positions for enhanced Development Services include 15 FTEs in Planning, Engineering & Inspections, Transportation, Fire, and Water Resources to support increased demand. The Fire department adds 5 FTEs for additional compliance inspectors to address needed support for increased regular fire inspections throughout the community. Water Resources also includes the addition of 4 FTEs for a sewer maintenance crew and a 1 FTE for a laboratory coordinator to support increased compensation for the Police Department, 30 FTEs are reduced from unfilled patrol positions. The net impact for the overall budget is an increase of 14.5 FTEs compared to the adopted FY 22-23 budget. The remaining positions result from enhancements for the other service areas. Other position additions and changes are detailed in the appropriate service area sections of the document.', metadata={'id': 'd49c0a26-c8db-4a61-baec-5e53b709325d', 'type': 'text'}),\n",
       " Document(page_content='The budget includes a 4% average merit increase for all eligible employees and a 4% step movement for all general employees on the step program. The minimum wage for benefitted employees increases from $15.91 to $18.00 per hour. Police sworn personnel will have a market-based increase of 16.2%. Fire and Guilford Metro personnel will receive a 4% market adjustment to salaries. Starting pay will increase to $47,812 for Fire and $55,000 for Police. The City is required to increase its contribution to the North Carolina Local Government Retirement System on behalf of its employees, resulting in an approximate $4.6 million increase in retirement contribution costs for the total budget.\\n\\nAdopted 2023-24 Budget\\n\\n20\\n\\n@\\n\\nTOTAL BUDGET - EXPENDITURES\\n\\nMaintenance and Operations (M&O) costs, which include transfers from operating funds to capital projects or capital reserve funds, and debt service expenditures, increase from $371.7 million to $405.2 million, or 9.0%. The FY 23-24 budget includes several transfers to other funds to support new parking facility debt of $3 million, $1.5 million for information technology support and improvement, and support for the Coliseum, Guilford Metro 911, and Cemeteries funds. Contract and supply increases to maintain current service levels for solid waste services, security, fuel price increases and others total almost $4.5 million.\\n\\nCapital outlay expenditures are budgeted at $22.8 million, about $2.0 million less than the amended FY 22-23 budget. The Equipment Services Fund is projecting rolling stock replacement needs of $14.8 million in FY 23-24 as compared to $14.6 million in the current year.\\n\\nTotal Net Expenditures by Expenditure Category', metadata={'id': 'ce65f8ef-ffca-478c-9fca-0676320300c4', 'type': 'text'}),\n",
       " Document(page_content='Adopted 2023-24 Budget\\n\\n21\\n\\nSERVICE AREA SUMMARY', metadata={'id': '9434738f-3c1a-4ac4-b9ab-121c301b5807', 'type': 'text'}),\n",
       " Document(page_content='Community Services\\n\\nGeneral Government Budget & Evaluation\\n\\nAdopted 2023-24 Budget\\n\\n22\\n\\nSERVICE AREA SUMMARY', metadata={'id': 'baa87de1-1c4d-41a4-8a93-11ee000eadcc', 'type': 'text'}),\n",
       " Document(page_content='Less Transfers and Internal Charges\\n\\nTOTAL NET BUDGET\\n\\n141,085,305 589,800,622\\n\\n141,085,305\\n\\n589,800,622\\n\\n162,178,706 688,930,551\\n\\n162,178,706\\n\\n688,930,551\\n\\n167,918,671\\n\\n167,918,671\\n\\n751,341,324\\n\\nAdopted 2023-24 Budget\\n\\n23\\n\\n23\\n\\n169,917,133\\n\\n772,515,336\\n\\ne\\n\\nExpenditures by Service Area FY 23-24 Budget\\n\\nDebt Service 6% General Government 10% Total Budget: $751 341 324 Infrastructure 52%\\n\\nAdopted 2023-24 Budget\\n\\n24\\n\\nTOTAL BUDGET - REVENUES\\n\\nRevenue estimates are based on actual prior year amounts, current year projections, trend analysis, and general economic forecasts. Each of the major revenue categories are discussed in further detail below the chart.\\n\\nTotal Revenue by Major Type', metadata={'id': '21238449-bc16-4515-ad82-d8cfe5b6fd8f', 'type': 'text'}),\n",
       " Document(page_content='Property Taxes The FY 23-24 recommended budget is balanced with a property tax rate of 67.25 cents, a four cent increase to the adopted rate for FY 22- 23. The tax rate is allocated 62.75 cents to the General Fund, 3.50 cents to the Transit Fund, and 1.00 cent to the Housing Partnership Fund. Property taxes are budgeted at $251.9 million, an increase of $18.6 million, or 7.9%, above the amended current year budget. Property taxes make up about 33.6% of total net revenues. Based on information provided by the Guilford County Tax Department, the tax base is estimated at $37.4 billion with a growth rate of approximately 1.75% for FY 23-24.\\n\\nLocal Option Sales Tax The State of North Carolina grants counties the authority to levy a general local sales tax of up to 2.0%. Counties and transportation authorities are also authorized to levy a public transportation sales tax (subject to voter approval), and counties may authorize a restricted county purpose local sales tax of 0.25% (subject to voter approval). The general state sales tax is currently at 4.75%. Guilford County levies a 2.0% general sales tax. Sales tax distribution among jurisdictions within Guilford County is based on total tax levy of all jurisdictions.', metadata={'id': '9a2966ac-f7d1-48df-9dee-e625b4239997', 'type': 'text'}),\n",
       " Document(page_content='Sales tax revenue for FY 23-24 is projected at $88.6 million, representing an increase of $7.6 million above the amended FY 22-23 budget. Projections for FY 22-23 estimate a growth rate of approximately 11% compared FY 21-22 actuals. For FY 23-24, sales tax receipts are projected to increase 4% compared to current estimates. Due to the impact of sales tax distribution based on the overall Guilford County tax levy, receipts for FY 23-24 are expected to decrease by approximately $3 million. This occurs when the City changes tax rates by a lower amount compared to other jurisdictions in the county, primarily the Guilford County tax rate. The result is a projected sales tax growth of almost 7.5%. Local option sales tax revenues constitute about 9.6% of total net revenues.\\n\\nAdopted 2023-24 Budget\\n\\n25\\n\\n@\\n\\nIntergovernmental Revenue Intergovernmental revenues include those revenues that are collected by the State of North Carolina and returned to local governments, such as the Beer and Wine Tax, Utility Sales Taxes, various cable and satellite service sales taxes (now shared with local governments through the Video Services Competition Act), and portions of the state tax on gasoline. This revenue category also includes contributions from Guilford County for support for the City’s Library System, and federal and state grants that help support the Greensboro Transit Agency.\\n\\nIntergovernmental revenues are budgeted at approximately $56.2 million, about $1.3 million more than the revised current year budget. Electric Utility and Piped Natural Gas sales revenues are budgeted at $19.5 million, $1.4 million, or 7.7% higher than the FY 22-23 budgeted amount.', metadata={'id': '538f83ea-5ed6-497e-a684-55deaff7645d', 'type': 'text'}),\n",
       " Document(page_content='Telecommunications, video, and satellite revenues decrease from $4.2 million to $3.5 million, or approximately 19%. This is a continuation of recent trends in decreased revenues from telecommunication sales taxes as consumers continue to abandon landline services.\\n\\nPowell Bill funds, the City’s portion of the state gasoline tax, are budgeted at approximately $8.4 million for FY 23-24, the same as FY 22-23. The budget includes federal and state funding for transit services of $7.5 million, a slight decrease from FY 22-23.\\n\\nShared revenues from beer, wine, and the City’s share of the local ABC distribution of sales taxes are projected to remain the same at approximately $6.5 million. Recent information shared by the local ABC Board indicates that growth in the distribution may be limited in the coming year due to capital plans and State required fund balance needs. Other state shared revenues are expected to remain largely flat overall.\\n\\nUser Fees, Charges and Licenses These revenues primarily represent charges for City services that are provided by departments typically operating as enterprises in separate funds. Examples include water and sewer charges, solid waste transfer station tipping fees, parking deck and on-street parking fees, transit fares, Coliseum parking and concessions, and the stormwater management fee. Charges for services provided by General Fund Departments, such as Parks and Recreation and Engineering and Inspections, are also included in this category.', metadata={'id': '972fed3e-9184-451d-b7b2-56d342c1fa22', 'type': 'text'}),\n",
       " Document(page_content='Budgeted revenues for FY 23-24 are $276.6 million, compared to $253.3 million for FY 22-23. User fee revenue generated in the Water Resources Fund is a significant portion of this revenue category. Budgeted Water Resources user fee revenue will increase from $133.9 million to $147.8 million, an increase of $13.8 million, or 10.3%, based on service growth and increased rates. An average rate increase of 8.5% is necessary to ensure debt coverage, maintenance, contaminant mitigation, and capacity improvement projections for the water and sewer system. Solid waste landfill and tipping fees are also recommended to increase as contracted service and disposal costs continue to rise.\\n\\nOther Revenues Revenues not otherwise defined are included in this category. These include interest income, internal service charges, proceeds of capitalized leases, donations, and sale of assets. Internal charges, or charges assessed by one department for services rendered for another, are captured in this category. This includes internal printing charges, garage and fleet maintenance charges, and computer service and maintenance charges.\\n\\nRevenues in this category are budgeted for FY 23-24 at $133.5 million, compared to $125.9 million in the current year. Increases are primarily related to improved interest returns for City investments as the markets continue to recover.\\n\\nInterfund Transfers Interfund transfers are contributions made by one fund to support operations in another fund, such as contributions from the General Fund to the Solid Waste Management Fund to support refuse disposal, and contributions to the Debt Service Fund to support voter-approved bond project financing. Budgeted interfund transfers for FY 23-24 are $69.1 million, compared to $66.5 million in FY 22-23.', metadata={'id': '94e54dd9-f533-4dcc-971a-0195096a9efb', 'type': 'text'}),\n",
       " Document(page_content='The General Fund contribution to the Debt Service Fund increased by approximately $1.3 million. This increase is necessary to fund debt service principal and interest expenses associated with successful bond referenda in 2009, 2016, and 2022. The transfer to the Guilford Metro 911 Fund is $10.2 million, a $1.4 million increase over the current year budget due to public safety pay increases and expenses no longer covered by the State 911 Board annual disbursement. The General Fund contribution to the Solid Waste fund increases by $100,000 to $1.9 million to help support disposal and compensation cost increases. Contributions to several funds will continue at FY 22-23 levels; Coliseum at $3.4 million, Parking Fund at $3.6 million, and the Capital Leasing Fund at $1.5 million.\\n\\nAdopted 2023-24 Budget\\n\\n26\\n\\n@\\n\\nFund Balance The City of Greensboro fund balance policy states that each year, the estimated savings realized from unexpended appropriations in the General Fund shall be evaluated with respect to appropriation to the following year’s revenue budget as appropriated fund balance, to assist in financing that year’s budget. Appropriated fund balance budgets across all funds increases from $36.2 million to $43.4 million. The Water Resources Fund includes an increase of fund balance appropriations of approximately $2.7 million compared to the previous year.\\n\\nFor the General Fund, fund balance appropriation totals $6.5 million, or 1.6%, of the total General Fund budget. This is similar to the previous year appropriation of $6 million. A key priority of the Council is to improve the General Fund fund balance to meet the Local Government Commission’s requirement of 25% operational fund balance. The total appropriated fund balance amount does not include additional fund balance appropriations that will be necessary to carry forward outstanding purchase orders at the end of FY 22-23.', metadata={'id': 'ea448ac1-cf16-4a57-bb72-56f4fe7f8fb9', 'type': 'text'}),\n",
       " Document(page_content='PROPERTY TAX RATE\\n\\nThe property tax rate for the FY 23-24 budget is 67.25 cents per $100 of assessed value, four cents higher than the adopted FY 22-23 rate. The tax rate is allocated at 62.75 cents to the General Fund, 3.50 cents to the Transit Fund, and 1.0 cents to the Nussbaum Housing Partnership Fund. The accompanying chart shows the City of Greensboro tax rates since FY04-05. The FY 24-25 projected budget is balanced with an overall tax rate of 68.75 cent, 1.50 cents above the FY 23-24 adopted rate.\\n\\nTax Rates and Valuations', metadata={'id': '0dcd3b29-c0f7-4bdb-9151-c192fe444a4c', 'type': 'text'}),\n",
       " Document(page_content='Assessed Valuation\\n\\nFY 04-05* FY 05-06 FY 06-07 FY 07-08 FY 08-09 FY 09-10 FY 10-11 FY 11-12 FY 12-13* FY 13-14 FY 14-15 FY 15-16 FY 16-17 FY 17-18* FY 18-19 FY 19-20 FY 20-21 FY 21-22 FY 22-23* FY 23-24 * Property Revaluation\\n\\nThe Greensboro Area Transit Agency Fund tax rate was established in FY 90-91 to begin City participation in an improved transit system. The tax was authorized on November 8, 1988, by referendum, in an amount not to exceed 3.5 cents.\\n\\nIn FY 90-91, Municipal Service Districts were created for the College Hill and Dunleath Neighborhoods, with properties in the two neighborhoods assessed an additional .05 tax levy. In FY 11-12, the College Hill Special Tax Levy was reduced from five cents to one cent. The tax rate for these service districts is recommended to remain the same as the current year, 5 cents for the Dunleath Neighborhood and 1 cent for the College Hill Neighborhood.\\n\\nBeginning in FY 04-05 a Business Improvement District was established for downtown Greensboro to provide specialized services for the area. A separate tax rate of 9 cents is set for properties within the district boundaries, and will remain the same for FY 23-24.\\n\\nAdopted 2023-24 Budget\\n\\n27\\n\\n@', metadata={'id': 'ee60f846-9541-497e-b6e5-8a6db18c7cbc', 'type': 'text'}),\n",
       " Document(page_content='TOTAL BUDGET - POSITION CHANGES\\n\\nThe accompanying charts show the net changes in full-time equivalent (FTE) positions by Service Area and by Fund Type for FY 22-23 through projections for FY 24-25.\\n\\nThe FY 23-24 budget includes a net increase of 14.5 FTEs. Mid-year additions total 22.5 FTEs, while additional positions related to service enhancements total another 23 FTEs. To provide additional support for Police compensation increases 30 FTEs are reduced using unfilled patrol positions.\\n\\nDuring FY 22-23 several mid-year positions changes were approved to increase efficiencies and build needed capacity across the city. One (1) Application Analyst and one (1) PSIT Supervisor were added to Guilford Metro 911. Four (4) Sr. Fire Inspectors, and (1) Deputy Fire Marshall were added to the Fire Department to increase capacity in meeting state mandated inspection requirements.\\n\\nA Code Compliance Supervisor and one (1) Neighborhood Impact Manager were added to Housing and Neighborhood Development. The Neighborhood Impact Manager is funded between the Neighborhood Development Department and the Nussbaum Fund. As part of this reorganization, one (1) Community Development Analyst was transferred to the Community Development Block Grant Program, for a decrease of one (1) FTE in the operating budget.\\n\\nA vacant Crew Supervisor in Parks and Recreation was converted to the new position of Intergovernmental Affairs Manager as part of the Executive Department for one (1) additional FTE. This position was replaced in Parks and Recreation for no net increase in FTEs. Other mid-year position changes include conversion of two (2) Assistant Customer Service positions and one (1) Administrative Support Coordinator at the Greensboro Transit Agency.', metadata={'id': 'eab9c9c8-407b-4196-a5b8-d50a09f402c7', 'type': 'text'}),\n",
       " Document(page_content=\"Information Technology added one (1) SQL DBS Administrator, one (1) Grants Manager was added to the Finance Department, and one (1) Administrative Support Specialist was added to the Legislative Department.\\n\\nThe Coliseum converted three security positions from part-time to full time adding 0.75 FTEs, and converted one Parking Attendant at the Coliseum from part-time to full-time for an additional 0.25 FTEs. One (1) Parking Coordinator and one (1) Call Center Supervisor were added at the Tanger Center for the Performing Arts.\\n\\nIn FY 22-23 the Water Resources Department added three (3) Crew Members mid-year and underwent a reorganization that added one (1) Electrical Plant Supervisor, one (1) Mechanical Plan Supervisor, one (1) Solids Handling Maintenance Coordinator, and one (1) Wastewater Process Maintenance Coordinator.\\n\\nIn FY 22-23 the General Government Service Area implemented a multi-department reorganization. The reorganization included the transfers of the Diversity & Inclusion Officer and Equity & Inclusion Specialist from Executive to the People and Culture Department. An Executive Office Administrator and Executive Assistant transferred to the Executive Department from the Legislative Department, and the addition one (1) Executive Office Coordinator.\\n\\nThe Office of Community Safety was also established including the addition of (1) Community Outreach Coordinator and one (1) LEADS Case Coordinator, the transfer of seven (7) Behavioral Crisis Counselors, and Behavioral Crisis Leader from the Diversity, Equity & Inclusion Office and transfer of the Violence Prevention Coordinator from the City Manager's Office.\", metadata={'id': 'bbaa072d-fd7d-4de3-8e6e-c4e2082e1e73', 'type': 'text'}),\n",
       " Document(page_content='The FY 23-24 budget includes a multi-department service enhancement for Development Services to support continuing growth in demand for development review and customer service goals. The enhancement includes a total of fifteen (15) FTEs across five departments: one (1) Planner, one (1) Planner Tech, and one (1) Zoning Enforcement Officer in the Planning Department, one (1) Plan Reviewer Supervisor, one (1) Plan Reviewer, and two (2) Construction Inspectors for the Fire Department, two (2) Civil Engineers in the Transportation Department, one (1) Electrical Plans Examiner, one (1) Sr. Electrical Trades Inspector, and one Construction Project Coordinator for the Engineering and Inspections Department, one (1) Civil Engineer and two (2) Soil Erosion Inspectors in the Water Resources Department.\\n\\nOther FY 23-24 service enhancements include one (1) Crew Supervisor, four (4) Crew Members, one (1) Heavy Equipment Operator, and one (1) Lab Coordinator in the Water Resources Department.\\n\\nAdopted 2023-24 Budget\\n\\n28\\n\\n@\\n\\nFull Time Equivalent Position Changes by Department / Fund', metadata={'id': '4234f25d-dec4-40eb-80ed-c14996eadb1a', 'type': 'text'}),\n",
       " Document(page_content='TOTAL\\n\\nFull Time Equivalent Position Changes by Fund Type', metadata={'id': '366ae853-6908-42e6-bf1f-b74dc136977f', 'type': 'text'}),\n",
       " Document(page_content='The table outlines the actual budget for the fiscal year 2021-22 and projected budgets for the fiscal years 2022-23, 2023-24, and 2024-25, broken down into three main categories: Personnel Costs, Maintenance & Operations, and Capital Outlay. \\n\\n**Personnel Costs** increase steadily from $263.67 million in 2021-22 to $336.54 million in 2024-25.\\n\\n**Maintenance & Operations** show a significant rise from $313.41 million in 2021-22 to $415.45 million in 2024-25.\\n\\n**Capital Outlay** fluctuates, with $12.72 million in 2021-22, peaking at $24.75 million in 2022-23, and then decreasing to $20.58 million in 2024-25.\\n\\nThe **Total Net Expenditures** also increase over the years, starting at $589.80 million in 2021-22 and reaching $772.52 million in 2024-25.', metadata={'id': '7af0d647-c427-418c-a58d-a641cc9489ea', 'type': 'text'}),\n",
       " Document(page_content='The table summarizes the budget allocations for various city departments and funds across four fiscal years: Actual 2021-22, Budget 2022-23, Adopted 2023-24, and Projected 2024-25. \\n\\n### Community Services\\n- **Key Departments/Funds:** Cemeteries Operating Fund, Hotel/Motel Occupancy Tax Fund, Human Rights, Libraries, Housing and Neighborhood Development, Nussbaum Housing Partnership Revolving Fund, Parks and Recreation.\\n- **Non-departmental Community Services Subtotal:** \\n  - Actual 2021-22: $42,032,782 \\n  - Budget 2022-23: $47,970,090 \\n  - Adopted 2023-24: $51,759,732 \\n  - Projected 2024-25: $52,681,291\\n- **Less Transfers and Internal Charges:** \\n  - Actual 2021-22: $435,706 \\n  - Budget 2022-23: $479,276 \\n  - Adopted 2023-24: $501,061 \\n  - Projected 2024-25: $501,061\\n- **Total Community Services:** \\n  - Actual 2021-22: $41,597,076 \\n  - Budget 2022-23: $47,490,814 \\n  - Adopted 2023-24: $51,258,671 \\n  - Projected 2024-25: $52,180,230\\n\\n### General Government\\n- **Key Departments/Funds:** Communications and Marketing Department, Equipment Services Fund, Executive, Financial & Administrative Services, Graphic Services Fund, Information Technology, Legal, Legislative, Network Services Fund, People & Culture, Risk Retention Funds.\\n- **Non-departmental General Government Subtotal:** \\n  - Actual 2021-22: $58,145,319 \\n  - Budget 2022-23: $66,409,852 \\n  - Adopted 2023-24: $65,726,320 \\n  - Projected 2024-25: $65,759,176\\n- **Less Transfers and Internal Charges:** \\n  - Actual 2021-22: $6,194,708 \\n  - Budget 2022-23: $6,979,319 \\n  - Adopted 2023-24: $8,792,431 \\n  - Projected 2024-25: $10,399,793\\n- **Total General Government:** \\n  - Actual 2021-22: $51,949,192 \\n  - Budget 2022-23: $59,430,533 \\n  - Adopted 2023-24: $56,933,889 \\n  - Projected 2024-25: $55,359,383\\n\\n### Total Allocations\\n- **Total Community Services and General Government:**\\n  - Actual 2021-22: $93,546,268\\n  - Budget 2022-23: $106,921,347\\n  - Adopted 2023-24: $108,192,560\\n  - Projected 2024-25: $107,539,613\\n\\nOverall, the table shows a consistent increase in budget allocations across these departments and funds over the four-year period.', metadata={'id': '41432248-d0a1-4d56-b05c-a7c6c2d7cc51', 'type': 'text'}),\n",
       " Document(page_content='It looks like the table information might be missing from your message. Could you provide the details or content of the table that you need summarized? This will help me assist you better.', metadata={'id': '07e50dde-303a-4002-b0b4-53c5b862cecb', 'type': 'text'}),\n",
       " Document(page_content=\"The table presents budgetary data for different sectors across four fiscal years: Actual 2021-22, Budget 2022-23, Adopted 2023-24, and Projected 2024-25. Here's a summary of the key components and trends:\\n\\n### Infrastructure\\n- **Key Funds**: Includes Engineering & Inspections, Field Operations, Transit System (GTA), Parking Facilities, Planning, Solid Waste Disposal, Special Tax Districts, State Highway Allocation, Stormwater Management, Transportation, War Memorial Coliseum, Water Resources Enterprise Fund, and Non-departmental.\\n- **Actual 2021-22**: $328.6M (after transfers and internal charges: $304.4M)\\n- **Budget 2022-23**: $379.9M (after transfers and internal charges: $356.1M)\\n- **Adopted 2023-24**: $414.3M (after transfers and internal charges: $390.2M)\\n- **Projected 2024-25**: Data incomplete but follows an increasing trend.\\n\\n### Public Safety\\n- **Key Funds**: Emergency Telephone System, Fire Department, Guilford Metro Communications, Police Department, Technical Services, and Non-departmental.\\n- **Actual 2021-22**: $174.5M (after transfers and internal charges: $162.8M)\\n- **Budget 2022-23**: $189.2M (after transfers and internal charges: $175.4M)\\n- **Adopted 2023-24**: $205.7M (after transfers and internal charges: $190.4M)\\n- **Projected 2024-25**: Data incomplete but follows an increasing trend.\\n\\n### Debt Service\\n- **Key Funds**: Capital Leasing, Debt Service, Debt Service Contribution.\\n- **Actual 2021-22**: $65.3M (after transfers and internal charges: $36.5M)\\n- **Budget 2022-23**: $85.5M (after transfers and internal charges: $42.2M)\\n- **Adopted 2023-24**: $91.5M (after transfers and internal charges: $46.9M)\\n- **Projected 2024-25**: Data incomplete but follows an increasing trend.\\n\\n### Total Budget\\n- **Actual 2021-22**: $730.9M\\n- **Budget 2022-23**: $851.1M\\n- **Adopted 2023-24**: $919.3M\\n\\nOverall, the budget for all sectors shows an upward trend across the years, indicating increased funding and allocation in each subsequent fiscal year.\", metadata={'id': '094efa22-5516-407f-abc7-501d341a7659', 'type': 'text'}),\n",
       " Document(page_content='The table appears to be a list of large numerical values. Here is a summary:\\n\\n- The total number of values: 24\\n- The smallest value: 1,832,416\\n- The largest value: 942,432,469\\n- The sum of all values: 2,308,394,902\\n\\nThese values likely represent significant quantities, possibly financial figures, population counts, or other large-scale data points.', metadata={'id': '8f569e22-4764-4d57-a8d0-cb098fb33302', 'type': 'text'}),\n",
       " Document(page_content='The table provides a financial overview of various revenue sources for the fiscal years 2021-22 through 2024-25. Here is a summary of the key points:\\n\\n1. **Property Tax**: Rising steadily from $197.6 million in 2021-22 to $261.3 million in 2024-25.\\n2. **Sales Tax**: Increasing from $80.0 million in 2021-22 to $92.6 million in 2024-25.\\n3. **Intergovernmental Revenue**: Growing modestly from $53.6 million in 2021-22 to $56.3 million in 2024-25.\\n4. **User Charges**: Showing significant growth from $250.3 million in 2021-22 to $289.8 million in 2024-25.\\n5. **Other Revenues**: Increasing from $102.8 million in 2021-22 to $135.0 million in 2024-25.\\n6. **Interfund Transfers**: Rising from $56.3 million in 2021-22 to $69.9 million in 2024-25.\\n7. **Appropriated Fund Balance**: Fluctuating, with a peak at $73.2 million in 2021-22 and then settling to $37.6 million in 2024-25.\\n8. **Net Revenues**: Overall growth from $672.7 million in 2021-22 to $772.6 million in 2024-25.\\n\\nThe data indicates a consistent increase in total net revenues over the four-year period, driven by growth in multiple revenue streams.', metadata={'id': '1eb246a7-adee-44a0-aa2a-620a56ff2fc4', 'type': 'text'}),\n",
       " Document(page_content=\"The table presents data on tax rates and various funds over a series of years. Here's a summary of the key points:\\n\\n1. **Tax Rates**:  \\n   - The tax rate remains generally stable from .5675 to .6325 until it sees a slight increase to .6625 and peaks at .6725 before dropping to .5500.\\n   - The rate appears to stabilize around .5872 to .5856 for several years before another increase to .6206 and a final rate of .6275.\\n\\n2. **General Fund**:  \\n   - This fund shows a gradual increase, with some fluctuations, ranging from .5675 initially to a high of .6725.\\n\\n3. **Economic Development**:  \\n   - The rate for economic development starts at .0025 and increases modestly over the years, peaking at .0350.\\n\\n4. **Housing Partnership**:  \\n   - The rate for housing partnership remains relatively small but increases slightly from .0025 to .0350 over the period.\\n\\n5. **Transit Fund**:  \\n   - The rate for the transit fund starts at .0025 and gradually increases to .0350.\\n  \\n6. **Total Value**:  \\n   - The total value of the funds starts at about 20,958,789,781 and increases significantly over the years to reach 36,797,562,983.\\n\\nOverall, the table indicates a trend of increasing tax rates and fund values over time, with notable stability in certain periods before eventual increases.\", metadata={'id': '4613e04d-e739-4d29-b970-994482e626e7', 'type': 'text'}),\n",
       " Document(page_content='It looks like you intended to share a table for summarization, but it appears to be missing. Could you please provide the details or data contained in the table? This will help me generate an accurate summary for you.', metadata={'id': 'd0bc00df-4b64-4716-a26d-8969058778e2', 'type': 'text'}),\n",
       " Document(page_content=\"The table presents a detailed budget allocation for various service areas and departments for the fiscal years 2022-23, 2023-24, and 2024-25. Here's a summarized breakdown:\\n\\n### Community Services\\n- **Includes:** Cemeteries Fund, Hotel/Motel Occupancy Tax Fund, Human Rights, Libraries, Housing and Neighborhood Development, Nussbaum Housing Partnership Fund, Parks & Recreation.\\n- **2022-23:** 330.64\\n- **2023-24:** 331.64\\n- **2024-25:** 331.64\\n\\n### General Government\\n- **Includes:** Budget and Evaluation, Communications and Marketing Department, Debt Service Fund, Equipment Services, Executive, Financial and Administrative Services, Graphic Services, Information Technology, Legal, Legislative, Network Services/Telecommunications, People & Culture, Risk Retention Funds.\\n- **2022-23:** 281.78\\n- **2023-24:** 293.78\\n- **2024-25:** 293.78\\n\\n### Infrastructure\\n- **Includes:** Engineering & Inspections, Field Operations, Greensboro Transit Agency, Parking Facilities Fund, Planning, Solid Waste Management, Stormwater Management, Transportation, War Memorial Coliseum Complex, Water Resources Enterprise.\\n- **2022-23:** 1,148.16\\n- **2023-24:** 1,168.66\\n- **2024-25:** 1,168.66\\n\\n### Public Safety\\n- **Includes:** Fire, Guilford Metro Communications, Police, Technical Services.\\n- **2022-23:** 813.38\\n- **2023-24:** 783.38\\n- **2024-25:** 783.38\\n\\n### Overall Totals\\n- **2022-23:** 3,296.95\\n- **2023-24:** 3,311.45\\n- **2024-25:** 3,311.45\\n\\n### Notable Changes\\n- **New Issues (2022-23):** Various departments saw changes such as increases or decreases in budget allocations, transfers, and mid-year changes.\\n- **Mid-Year Changes (2022-23):** An additional 19.50 was allocated across various departments.\\n\\nThis budget adjustment highlights the priorities and adjustments made over the three fiscal years, indicating slight increases in overall budget allocations for certain areas, with specific departments seeing notable changes in their budget allocations.\", metadata={'id': '9497238b-fb84-4c76-9d35-1770e895ccc9', 'type': 'text'}),\n",
       " Document(page_content=\"It looks like there was a table intended to be provided, but it wasn't included in your message. If you share the content or details of the table, I'd be happy to help you summarize it!\", metadata={'id': 'e77f8120-4420-48be-a180-d50d1c4a2147', 'type': 'text'}),\n",
       " Document(page_content=\"It looks like your request to summarize a table was cut off or the table itself wasn't included. Could you please provide the table or describe its contents? That way, I can help you with a summary.\", metadata={'id': '0fbd7da1-3c85-4193-a1bd-94b2f84de5d3', 'type': 'text'}),\n",
       " Document(page_content='The table summarizes the financial changes across various funds from 2022-23 to 2024-25. Here are the key points:\\n\\n1. **2022-23:**\\n   - **New Issues:**\\n     - General Fund: 2,425.25\\n     - Special Revenue Funds: 22.47\\n     - Debt Service Fund: 2.05\\n     - Enterprise Funds: 637.88\\n     - Internal Service Funds: 209.30\\n     - TOTAL: 3,296.95\\n   - **Transfers:**\\n     - General Fund: -17.00\\n     - Special Revenue Funds: 0.00\\n     - Debt Service Fund: 0.00\\n     - Enterprise Funds: 13.00\\n     - Internal Service Funds: -1.00\\n     - TOTAL: -4.00\\n   - **Mid-Year Changes:**\\n     - General Fund: 12.50\\n     - Special Revenue Funds: 0.50\\n     - Debt Service Fund: 0.00\\n     - Enterprise Funds: 4.50\\n     - Internal Service Funds: 2.00\\n     - TOTAL: 19.50\\n\\n2. **2023-24 and 2024-25:**\\n   - The fund allocations remain constant for both years.\\n     - General Fund: 2,420.75\\n     - Special Revenue Funds: 21.97\\n     - Debt Service Fund: 2.05\\n     - Enterprise Funds: 655.38\\n     - Internal Service Funds: 211.30\\n     - TOTAL: 3,311.45\\n\\nThe main changes occurred in the 2022-23 fiscal year with new issues and transfers impacting the totals, followed by mid-year adjustments. The subsequent years maintain the adjusted totals.', metadata={'id': '7b2adee9-637b-4e07-8abb-2b42b24fdc6e', 'type': 'text'}),\n",
       " Document(page_content='The text written on the image is:\\n\\n- \"Debt Service 6%\"\\n- \"Community Services 7%\"\\n- \"General Government 10%\"\\n- \"Public Safety 25%\"\\n- \"Total Budget: $751,341,324\"\\n- \"Infrastructure 52%\" The text outlines budget details for the fiscal year 2023-2024, highlighting total net budget figures and allocations across different service areas. Key figures include a total net budget of $751,341,324, with significant expenditures allocated to infrastructure (52%), general government (10%), and debt service (6%). Revenue estimates are derived from prior year actuals, current year projections, trend analysis, and economic forecasts.', metadata={'id': 'fc53e17a-e86c-4e66-9554-dfbb4d5e9e38', 'type': 'text'}),\n",
       " Document(page_content='The text on the image reads:\\n\\n- \"Total Budget: $751,341,324\"\\n- \"General Fund 44%\"\\n- \"Enterprise Funds 34%\"\\n- \"Debt Service Fund 5%\"\\n- \"Special Rev. Funds 2%\" The adopted budget for the fiscal year 2023-24 totals $751,341,324, as outlined in the fund summary. This includes allocations for Internal Service Funds.', metadata={'id': 'b63f5832-119c-4db2-a8e5-b3be6e3828b3', 'type': 'text'}),\n",
       " Document(page_content='Internal Service Funds\\n15% The adopted budget for the fiscal year 2023-24 totals $751,341,324. This summary includes the internal service funds as part of the overall budget.', metadata={'id': '4236fec7-7cb4-4746-9cad-5362ed031385', 'type': 'text'}),\n",
       " Document(page_content='The FY 23-24 budget for all funds totals $751,341,324, marking a 9.1% increase from the revised FY 22-23 budget. Key highlights include:\\n\\n1. **Infrastructure Service Area**:\\n   - Largest budget portion at $390.2 million (52% of total).\\n   - Increased by $34 million (9.5%).\\n   - Water Resources Fund rises from $148.6 million to $166.2 million, with $32.7 million allocated for capital projects.\\n\\n2. **Field Operations Department**:\\n   - Budget increase of $2 million due to inflation and higher waste tonnage.\\n   - Disposal costs offset by proposed tipping fee increases.\\n\\n3. **Parking Fund**:\\n   - Covers operations and debt for new Eugene Street and February One Street parking decks.\\n   - General Fund to transfer $3.6 million for debt service.\\n\\n4. **Public Safety Service Area**:\\n   - Second largest budget at $190.3 million (25% of total), up by $15 million.\\n   - Includes 9 new fire positions and 20 additional police vehicles.\\n   - Continued funding for community outreach to reduce violent crime.\\n\\n5. **General Government Service Area**:\\n   - Budget increases from $67.7 million to $72.6 million.\\n   - Establishes Office of Sustainability and Office of Community Safety.\\n\\n6. **Community Services Service Area**:\\n   - Budget increases from $47.5 million to $51.2 million.\\n   - Adds positions for Neighborhood Development and Parks and Recreation enhancements.\\n\\n7. **Employee Compensation**:\\n   - 4% average merit increase and step movement for eligible employees.\\n   - Minimum wage for benefitted employees rises to $18 per hour.\\n   - Police and fire personnel receive market-based salary adjustments.\\n\\n8. **Maintenance and Operations (M&O)**:\\n   - Costs increase from $371.7 million to $405.2 million.\\n   - Includes transfers for new parking facility debt, IT support, and other services.\\n\\n9. **Capital Outlay**:\\n   - Budgeted at $22.8 million, slightly less than the previous year.\\n   - Equipment Services Fund projects $14.8 million for rolling stock replacement.\\n\\n10. **Revenue Sources**:\\n    - Telecommunications revenues decrease by 19%.\\n    - Powell Bill funds remain at $8.4 million.\\n    - Federal and state transit funding slightly decreases.\\n    - User fees and charges increase to $276.6 million, driven by Water Resources user fees.\\n    - Other revenues, including interest income and internal service charges, increase to $133.5 million.\\n\\n11. **Interfund Transfers**:\\n    - Budgeted at $69.1 million, up from $66.5 million.\\n    - Includes increased contributions to Debt Service Fund, Guilford Metro 911 Fund, and Solid Waste Fund.\\n\\n12. **Fund Balance**:\\n    - Appropriated fund balance across all funds increases to $43.4 million.\\n    - General Fund appropriation remains similar to the previous year at $6.5 million.\\n    - Focus on meeting the Local Government Commission’s 25% operational fund balance requirement.\\n\\nOverall, the budget reflects significant investments in infrastructure, public safety, and community services, alongside adjustments for inflation and increased operational costs.', metadata={'id': '389a759c-fa5d-4450-b7fc-4598ce80317a', 'type': 'text'}),\n",
       " Document(page_content='The provided context outlines significant changes and projections in the budget and staffing for a fiscal period, focusing on debt service, personnel costs, and departmental enhancements.\\n\\n### Debt Service\\n- **Increase in Debt Service**: The Debt Service service area budget increases from $42.2 million to $46.9 million, representing 6% of total budget expenses.\\n- **Expenditures**: These include principal and interest payments for all outstanding general obligation bonds, including $126 million in bonds approved in 2016 and $135 million in bonds approved in 2022.\\n- **2022 Bonds**: Funding from these bonds is allocated to Parks & Recreation, Housing, Police, Fire, and Transportation projects.\\n- **IT Improvements**: A transfer of $1.5 million to the Capital Leasing Fund supports critical information technology improvements.\\n\\n### Budget Projections\\n- **FY 24-25 Budget**: Projected to be $21.2 million (2.8%) higher than the FY 23-24 recommended budget.\\n- **Personnel Costs**: Budgeted personnel costs are 10.6% higher than the FY 22-23 revised budget, with an increase of 44.5 full-time equivalent (FTE) positions.\\n\\n### Personnel Changes\\n- **New Positions**: \\n  - **Development Services**: 15 new FTEs across Planning, Engineering & Inspections, Transportation, Fire, and Water Resources to meet increased demand.\\n  - **Fire Department**: 5 new FTEs for compliance inspectors.\\n  - **Water Resources**: 4 new FTEs for a sewer maintenance crew and 1 FTE for a laboratory coordinator.\\n  - **Police Department**: 30 FTEs reduced from unfilled patrol positions to support increased compensation.\\n- **Net Impact**: Overall, there is an increase of 14.5 FTEs compared to the adopted FY 22-23 budget.\\n\\n### Mid-Year Additions and Changes (FY 22-23)\\n- **Guilford Metro 911**: Added 1 Application Analyst and 1 PSIT Supervisor.\\n- **Fire Department**: Added 4 Sr. Fire Inspectors and 1 Deputy Fire Marshall.\\n- **Housing and Neighborhood Development**: Added 1 Code Compliance Supervisor and 1 Neighborhood Impact Manager.\\n- **Parks and Recreation**: Converted a vacant Crew Supervisor position to an Intergovernmental Affairs Manager.\\n- **Greensboro Transit Agency**: Converted 2 Assistant Customer Service positions and 1 Administrative Support Coordinator.\\n- **Information Technology**: Added 1 SQL DBS Administrator.\\n- **Finance Department**: Added 1 Grants Manager.\\n- **Legislative Department**: Added 1 Administrative Support Specialist.\\n- **Coliseum**: Converted 3 part-time security positions to full-time, adding 0.75 FTEs, and converted 1 Parking Attendant from part-time to full-time, adding 0.25 FTEs.\\n- **Tanger Center for the Performing Arts**: Added 1 Parking Coordinator and 1 Call Center Supervisor.\\n- **Water Resources Department**: Added 3 Crew Members and underwent a reorganization adding several supervisory and coordinator positions.\\n- **General Government Service Area**: Implemented a multi-department reorganization, including transfers and additions in the Diversity & Inclusion Office, Executive Department, and the establishment of the Office of Community Safety.\\n\\n### FY 23-24 Service Enhancements\\n- **Development Services**: 15 new FTEs across five departments to support growth in development review and customer service goals.\\n- **Water Resources Department**: Added 1 Crew Supervisor, 4 Crew Members, 1 Heavy Equipment Operator, and 1 Lab Coordinator.\\n\\n### Summary\\nThe context details a comprehensive overview of budget increases, particularly in debt service and personnel costs, along with significant staffing changes across various departments to enhance service delivery and meet increased demand. The net effect is a strategic reallocation and addition of FTEs to support critical areas such as development services, fire inspections, and water resources, while also addressing compensation needs in the police department.', metadata={'id': 'b7a75e1e-d7e0-4674-842b-ad08d38580f0', 'type': 'text'}),\n",
       " Document(page_content=\"The provided context outlines the adopted budget for the fiscal year 2023-24, along with actual and projected budgets for the fiscal years 2021-22, 2022-23, and 2024-25. The budget is broken down into several service areas, with detailed allocations for Community Services and General Government.\\n\\n### Key Highlights:\\n\\n#### Overall Budget Trends:\\n- **Personnel Costs**: Increase from $263.67 million in 2021-22 to $336.54 million in 2024-25.\\n- **Maintenance & Operations**: Rise from $313.41 million in 2021-22 to $415.45 million in 2024-25.\\n- **Capital Outlay**: Fluctuates, peaking at $24.75 million in 2022-23 and then decreasing to $20.58 million in 2024-25.\\n- **Total Net Expenditures**: Increase from $589.80 million in 2021-22 to $772.52 million in 2024-25.\\n\\n### Community Services:\\n- **Key Departments/Funds**: Cemeteries Operating Fund, Hotel/Motel Occupancy Tax Fund, Human Rights, Libraries, Housing and Neighborhood Development, Nussbaum Housing Partnership Revolving Fund, Parks and Recreation.\\n- **Non-departmental Community Services Subtotal**:\\n  - 2021-22: $42,032,782\\n  - 2022-23: $47,970,090\\n  - 2023-24: $51,759,732\\n  - 2024-25: $52,681,291\\n- **Less Transfers and Internal Charges**:\\n  - 2021-22: $435,706\\n  - 2022-23: $479,276\\n  - 2023-24: $501,061\\n  - 2024-25: $501,061\\n- **Total Community Services**:\\n  - 2021-22: $41,597,076\\n  - 2022-23: $47,490,814\\n  - 2023-24: $51,258,671\\n  - 2024-25: $52,180,230\\n\\n### General Government:\\n- **Key Departments/Funds**: Communications and Marketing Department, Equipment Services Fund, Executive, Financial & Administrative Services, Graphic Services Fund, Information Technology, Legal, Legislative, Network Services Fund, People & Culture, Risk Retention Funds.\\n- **Non-departmental General Government Subtotal**:\\n  - 2021-22: $58,145,319\\n  - 2022-23: $66,409,852\\n  - 2023-24: $65,726,320\\n  - 2024-25: $65,759,176\\n- **Less Transfers and Internal Charges**:\\n  - 2021-22: $6,194,708\\n  - 2022-23: $6,979,319\\n  - 2023-24: $8,792,431\\n  - 2024-25: $10,399,793\\n- **Total General Government**:\\n  - 2021-22: $51,949,192\\n  - 2022-23: $59,430,533\\n  - 2023-24: $56,933,889\\n  - 2024-25: $55,359,383\\n\\n### Total Allocations:\\n- **Total Community Services and General Government**:\\n  - 2021-22: $93,546,268\\n  - 2022-23: $106,921,347\\n  - 2023-24: $108,192,560\\n  - 2024-25: $107,539,613\\n\\n### Service Area Breakdown:\\n- **Community Services**:\\n  - 2022-23: 330.64\\n  - 2023-24: 331.64\\n  - 2024-25: 331.64\\n- **General Government**:\\n  - 2022-23: 281.78\\n  - 2023-24: 293.78\\n  - 2024-25: 293.78\\n- **Infrastructure**:\\n  - 2022-23: 1,148.16\\n  - 2023-24: 1,168.66\\n  - 2024-25: 1,168.66\\n- **Public Safety**:\\n  - 2022-23: 813.38\\n  - 2023-24: 783.38\\n  - 2024-25: 783.38\\n\\n### Overall Totals:\\n- **2022-23**: 3,296.95\\n- **2023-24**: 3,311.45\\n- **2024-25**: 3,311.45\\n\\n### Notable Changes:\\n- **New Issues (2022-23)**: Various departments saw changes such as increases or decreases in budget allocations, transfers, and mid-year changes.\\n- **Mid-Year Changes (2022-23)**: An additional 19.50 was allocated across various departments.\\n\\nThe budget adjustments reflect the city's priorities and adjustments over the three fiscal years, indicating slight increases in overall budget allocations for certain areas, with specific departments seeing notable changes in their budget allocations.\", metadata={'id': '62f76cfe-40d0-42b5-917a-251f9d1e2e9d', 'type': 'text'}),\n",
       " Document(page_content='The provided context outlines the financial details and budget allocations for the fiscal year 2023-2024. Here is a detailed summary:\\n\\n### Total Net Budget\\n- **2022-23:** \\n  - Initial budget: $141,085,305\\n  - Adjusted budget: $589,800,622\\n- **2023-24:** \\n  - Initial budget: $162,178,706\\n  - Adjusted budget: $688,930,551\\n- **2024-25:** \\n  - Initial budget: $167,918,671\\n  - Adjusted budget: $751,341,324\\n\\n### Expenditures by Service Area for FY 2023-24\\n- **Total Budget:** $751,341,324\\n- **Allocations:**\\n  - Debt Service: 6%\\n  - General Government: 10%\\n  - Infrastructure: 52%\\n  - Community Services: 7%\\n  - Public Safety: 25%\\n\\n### Revenue Estimates\\nRevenue estimates are based on:\\n- Actual prior year amounts\\n- Current year projections\\n- Trend analysis\\n- General economic forecasts\\n\\n### Financial Changes Across Various Funds (2022-23 to 2024-25)\\n#### 2022-23:\\n- **New Issues:**\\n  - General Fund: 2,425.25\\n  - Special Revenue Funds: 22.47\\n  - Debt Service Fund: 2.05\\n  - Enterprise Funds: 637.88\\n  - Internal Service Funds: 209.30\\n  - **Total:** 3,296.95\\n- **Transfers:**\\n  - General Fund: -17.00\\n  - Special Revenue Funds: 0.00\\n  - Debt Service Fund: 0.00\\n  - Enterprise Funds: 13.00\\n  - Internal Service Funds: -1.00\\n  - **Total:** -4.00\\n- **Mid-Year Changes:**\\n  - General Fund: 12.50\\n  - Special Revenue Funds: 0.50\\n  - Debt Service Fund: 0.00\\n  - Enterprise Funds: 4.50\\n  - Internal Service Funds: 2.00\\n  - **Total:** 19.50\\n\\n#### 2023-24 and 2024-25:\\n- **Fund Allocations (constant for both years):**\\n  - General Fund: 2,420.75\\n  - Special Revenue Funds: 21.97\\n  - Debt Service Fund: 2.05\\n  - Enterprise Funds: 655.38\\n  - Internal Service Funds: 211.30\\n  - **Total:** 3,311.45\\n\\n### Fund Summary for FY 2023-24\\n- **Total Budget:** $751,341,324\\n- **Allocations:**\\n  - General Fund: 44%\\n  - Enterprise Funds: 34%\\n  - Debt Service Fund: 5%\\n  - Special Revenue Funds: 2%\\n  - Internal Service Funds: 15%\\n\\n### Key Points\\n- The total net budget for FY 2023-24 is $751,341,324.\\n- Significant expenditures are allocated to infrastructure (52%), general government (10%), and debt service (6%).\\n- Revenue estimates are based on historical data, current projections, trend analysis, and economic forecasts.\\n- The financial changes from 2022-23 to 2024-25 show adjustments in new issues, transfers, and mid-year changes, with fund allocations remaining constant for 2023-24 and 2024-25.\\n\\nThis summary provides a comprehensive overview of the budget allocations, revenue estimates, and financial changes for the specified fiscal years.', metadata={'id': '8dbf57a6-7c65-4a28-97df-68d43a3c1705', 'type': 'text'}),\n",
       " Document(page_content='The provided context outlines the fiscal year (FY) 2023-2024 budget recommendations for property taxes, local option sales tax, and intergovernmental revenues for a specific jurisdiction, likely Greensboro, North Carolina. Here is a detailed summary:\\n\\n### Property Taxes\\n- **Tax Rate**: The recommended property tax rate for FY 23-24 is 67.25 cents per $100 of assessed value, which is a 4-cent increase from the FY 22-23 rate.\\n- **Allocation**: The tax rate is divided as follows:\\n  - 62.75 cents to the General Fund\\n  - 3.50 cents to the Transit Fund\\n  - 1.00 cent to the Housing Partnership Fund\\n- **Revenue**: Property taxes are budgeted at $251.9 million, an increase of $18.6 million (7.9%) from the amended current year budget. Property taxes constitute about 33.6% of total net revenues.\\n- **Tax Base**: The tax base is estimated at $37.4 billion with a growth rate of approximately 1.75% for FY 23-24.\\n\\n### Local Option Sales Tax\\n- **Authority**: The State of North Carolina allows counties to levy a general local sales tax of up to 2.0%. Additional taxes for public transportation and restricted county purposes can also be levied, subject to voter approval.\\n- **Current Rates**: The general state sales tax is 4.75%, and Guilford County levies a 2.0% general sales tax.\\n- **Revenue**: Sales tax revenue for FY 23-24 is projected at $88.6 million, an increase of $7.6 million from the amended FY 22-23 budget. This represents a growth rate of approximately 11% compared to FY 21-22 actuals and a 4% increase compared to current estimates for FY 22-23.\\n- **Distribution Impact**: Due to the impact of sales tax distribution based on the overall Guilford County tax levy, receipts for FY 23-24 are expected to decrease by approximately $3 million. This occurs when the City changes tax rates by a lower amount compared to other jurisdictions in the county.\\n- **Contribution**: Local option sales tax revenues make up about 9.6% of total net revenues.\\n\\n### Intergovernmental Revenue\\n- **Sources**: These revenues include state-collected taxes returned to local governments, such as the Beer and Wine Tax, Utility Sales Taxes, and various cable and satellite service sales taxes. It also includes contributions from Guilford County for the City’s Library System and federal and state grants supporting the Greensboro Transit Agency.\\n- **Revenue**: Intergovernmental revenues are budgeted at approximately $56.2 million, an increase of $1.3 million from the revised current year budget. Electric Utility and Piped Natural Gas sales revenues are budgeted at $19.5 million, which is $1.4 million (7.7%) higher than the FY 22-23 budgeted amount.\\n\\n### Historical Context and Special Districts\\n- **Historical Tax Rates**: The document provides a historical overview of tax rates and valuations since FY 04-05, noting property revaluations in certain years.\\n- **Transit Fund**: The Greensboro Area Transit Agency Fund tax rate was established in FY 90-91 following a 1988 referendum.\\n- **Municipal Service Districts**: Created in FY 90-91 for the College Hill and Dunleath Neighborhoods, with specific tax levies for each. The College Hill Special Tax Levy was reduced in FY 11-12.\\n- **Business Improvement District**: Established in FY 04-05 for downtown Greensboro, with a separate tax rate of 9 cents, which remains unchanged for FY 23-24.\\n\\n### Future Projections\\n- **FY 24-25**: The projected budget for FY 24-25 is balanced with an overall tax rate of 68.75 cents, which is 1.50 cents higher than the FY 23-24 adopted rate.\\n\\nThis summary encapsulates the key financial elements and tax rate changes proposed for the upcoming fiscal year, providing a comprehensive overview of the budgetary allocations and expected revenue streams.', metadata={'id': '87e01d87-f00a-4c8d-9265-f0ca951c547e', 'type': 'text'}),\n",
       " Document(page_content='The provided context appears to be a heading or title related to changes in Full Time Equivalent (FTE) positions categorized by different fund types. Here is a detailed summary based on the given context:\\n\\n1. **Full Time Equivalent (FTE) Positions**: This refers to a unit that indicates the workload of an employed person in a way that makes workloads comparable across various contexts. One FTE is equivalent to one full-time worker, but the term can also encompass part-time workers whose combined hours are equivalent to a full-time position.\\n\\n2. **Position Changes**: This implies that there have been adjustments or modifications in the number of FTE positions. These changes could be due to various factors such as budget cuts, organizational restructuring, new project initiations, or changes in funding.\\n\\n3. **By Fund Type**: This indicates that the changes in FTE positions are being categorized based on the type of funding source. Fund types could include general funds, special revenue funds, enterprise funds, internal service funds, and others. Each fund type typically has specific sources of revenue and designated purposes for expenditure.\\n\\n4. **TOTAL**: This suggests that the summary or report will provide an aggregate or overall view of the FTE position changes across all fund types. It may include a total count of positions added, removed, or reallocated.\\n\\nIn essence, the context is likely referring to a report or analysis that details how the number of full-time equivalent positions has changed, broken down by the different types of funds that support these positions. The total figure would give a comprehensive view of the overall impact of these changes.', metadata={'id': '104beb1c-0a29-4bde-8a10-0f50165c7862', 'type': 'text'}),\n",
       " Document(page_content=\"It seems like there was an attempt to share a table for summarization, but the actual table data wasn't included in the message. However, based on the provided summary, here are the key points:\\n\\n1. **Total Number of Values**: 24\\n2. **Smallest Value**: 1,832,416\\n3. **Largest Value**: 942,432,469\\n4. **Sum of All Values**: 2,308,394,902\\n\\nThese values likely represent significant quantities, which could be financial figures, population counts, or other large-scale data points. Without the actual table, it's challenging to provide more specific insights, but the summary indicates a wide range of large numerical values.\\n\\nIf you can provide the actual table or more details about its contents, I can offer a more detailed and accurate summary.\", metadata={'id': '11b37138-6508-4995-9731-f97c2360bd67', 'type': 'text'}),\n",
       " Document(page_content='The provided context outlines budgetary data and trends for various sectors and revenue sources across four fiscal years: Actual 2021-22, Budget 2022-23, Adopted 2023-24, and Projected 2024-25. Here is a detailed summary of the key components and trends:\\n\\n### Budgetary Data by Sector\\n\\n#### Infrastructure\\n- **Key Funds**: This sector includes a wide range of funds such as Engineering & Inspections, Field Operations, Transit System (GTA), Parking Facilities, Planning, Solid Waste Disposal, Special Tax Districts, State Highway Allocation, Stormwater Management, Transportation, War Memorial Coliseum, Water Resources Enterprise Fund, and Non-departmental.\\n- **Trends**:\\n  - **Actual 2021-22**: $328.6M (net: $304.4M)\\n  - **Budget 2022-23**: $379.9M (net: $356.1M)\\n  - **Adopted 2023-24**: $414.3M (net: $390.2M)\\n  - **Projected 2024-25**: Data incomplete but shows an increasing trend.\\n\\n#### Public Safety\\n- **Key Funds**: Includes Emergency Telephone System, Fire Department, Guilford Metro Communications, Police Department, Technical Services, and Non-departmental.\\n- **Trends**:\\n  - **Actual 2021-22**: $174.5M (net: $162.8M)\\n  - **Budget 2022-23**: $189.2M (net: $175.4M)\\n  - **Adopted 2023-24**: $205.7M (net: $190.4M)\\n  - **Projected 2024-25**: Data incomplete but shows an increasing trend.\\n\\n#### Debt Service\\n- **Key Funds**: Includes Capital Leasing, Debt Service, and Debt Service Contribution.\\n- **Trends**:\\n  - **Actual 2021-22**: $65.3M (net: $36.5M)\\n  - **Budget 2022-23**: $85.5M (net: $42.2M)\\n  - **Adopted 2023-24**: $91.5M (net: $46.9M)\\n  - **Projected 2024-25**: Data incomplete but shows an increasing trend.\\n\\n#### Total Budget\\n- **Trends**:\\n  - **Actual 2021-22**: $730.9M\\n  - **Budget 2022-23**: $851.1M\\n  - **Adopted 2023-24**: $919.3M\\n\\nOverall, the budget for all sectors shows an upward trend, indicating increased funding and allocation in each subsequent fiscal year.\\n\\n### Revenue Sources\\n\\n1. **Property Tax**: \\n   - Rising steadily from $197.6M in 2021-22 to $261.3M in 2024-25.\\n2. **Sales Tax**: \\n   - Increasing from $80.0M in 2021-22 to $92.6M in 2024-25.\\n3. **Intergovernmental Revenue**: \\n   - Growing modestly from $53.6M in 2021-22 to $56.3M in 2024-25.\\n4. **User Charges**: \\n   - Showing significant growth from $250.3M in 2021-22 to $289.8M in 2024-25.\\n5. **Other Revenues**: \\n   - Increasing from $102.8M in 2021-22 to $135.0M in 2024-25.\\n6. **Interfund Transfers**: \\n   - Rising from $56.3M in 2021-22 to $69.9M in 2024-25.\\n7. **Appropriated Fund Balance**: \\n   - Fluctuating, with a peak at $73.2M in 2021-22 and then settling to $37.6M in 2024-25.\\n8. **Net Revenues**: \\n   - Overall growth from $672.7M in 2021-22 to $772.6M in 2024-25.\\n\\nThe data indicates a consistent increase in total net revenues over the four-year period, driven by growth in multiple revenue streams.\\n\\n### Tax Rates and Fund Values\\n\\n1. **Tax Rates**: \\n   - The tax rate remains generally stable from .5675 to .6325, sees a slight increase to .6625, peaks at .6725, then drops to .5500. It stabilizes around .5872 to .5856 for several years before another increase to .6206 and a final rate of .6275.\\n2. **General Fund**: \\n   - Shows a gradual increase, with some fluctuations, ranging from .5675 initially to a high of .6725.\\n3. **Economic Development**: \\n   - Starts at .0025 and increases modestly over the years, peaking at .0350.\\n4. **Housing Partnership**: \\n   - Remains relatively small but increases slightly from .0025 to .0350 over the period.\\n5. **Transit Fund**: \\n   - Starts at .0025 and gradually increases to .0350.\\n6. **Total Value**: \\n   - Starts at about $20.96B and increases significantly over the years to reach $36.80B.\\n\\nOverall, the table indicates a trend of increasing tax rates and fund values over time, with notable stability in certain periods before eventual increases.', metadata={'id': 'c9c78136-bc6a-49de-844f-b3ad56c7588a', 'type': 'text'}),\n",
       " Document(page_content='The provided context outlines the fiscal year (FY) 2023-2024 budget for a specific jurisdiction, likely Greensboro, North Carolina, detailing significant changes, projections, and allocations across various service areas and revenue sources. Here is a comprehensive summary:\\n\\n### Total Budget Overview\\n- **FY 23-24 Total Budget**: $751,341,324\\n- **Increase from FY 22-23**: 9.1%\\n\\n### Key Service Areas and Allocations\\n\\n1. **Infrastructure Service Area**\\n   - **Total Budget**: $390.2 million (52% of total budget)\\n   - **Increase**: $34 million (9.5%)\\n   - **Water Resources Fund**: Increased from $148.6 million to $166.2 million, with $32.7 million allocated for capital projects.\\n\\n2. **Field Operations Department**\\n   - **Budget Increase**: $2 million due to inflation and higher waste tonnage.\\n   - **Offset**: Proposed tipping fee increases.\\n\\n3. **Parking Fund**\\n   - **Coverage**: Operations and debt for new Eugene Street and February One Street parking decks.\\n   - **General Fund Transfer**: $3.6 million for debt service.\\n\\n4. **Public Safety Service Area**\\n   - **Total Budget**: $190.3 million (25% of total budget)\\n   - **Increase**: $15 million\\n   - **New Positions**: 9 new fire positions and 20 additional police vehicles.\\n   - **Community Outreach**: Continued funding to reduce violent crime.\\n\\n5. **General Government Service Area**\\n   - **Budget Increase**: From $67.7 million to $72.6 million.\\n   - **New Offices**: Establishment of the Office of Sustainability and the Office of Community Safety.\\n\\n6. **Community Services Service Area**\\n   - **Budget Increase**: From $47.5 million to $51.2 million.\\n   - **New Positions**: For Neighborhood Development and Parks and Recreation enhancements.\\n\\n7. **Employee Compensation**\\n   - **Merit Increase**: 4% average merit increase and step movement for eligible employees.\\n   - **Minimum Wage**: Increased to $18 per hour for benefitted employees.\\n   - **Market-Based Adjustments**: For police and fire personnel.\\n\\n8. **Maintenance and Operations (M&O)**\\n   - **Cost Increase**: From $371.7 million to $405.2 million.\\n   - **Includes**: Transfers for new parking facility debt, IT support, and other services.\\n\\n9. **Capital Outlay**\\n   - **Budget**: $22.8 million, slightly less than the previous year.\\n   - **Equipment Services Fund**: Projects $14.8 million for rolling stock replacement.\\n\\n### Revenue Sources\\n\\n1. **Telecommunications Revenues**: Decrease by 19%.\\n2. **Powell Bill Funds**: Remain at $8.4 million.\\n3. **Federal and State Transit Funding**: Slight decrease.\\n4. **User Fees and Charges**: Increase to $276.6 million, driven by Water Resources user fees.\\n5. **Other Revenues**: Including interest income and internal service charges, increase to $133.5 million.\\n\\n### Interfund Transfers\\n- **Budgeted**: $69.1 million, up from $66.5 million.\\n- **Includes**: Increased contributions to Debt Service Fund, Guilford Metro 911 Fund, and Solid Waste Fund.\\n\\n### Fund Balance\\n- **Appropriated Fund Balance**: Increases to $43.4 million.\\n- **General Fund Appropriation**: Remains similar to the previous year at $6.5 million.\\n- **Focus**: Meeting the Local Government Commission’s 25% operational fund balance requirement.\\n\\n### Debt Service\\n- **Budget Increase**: From $42.2 million to $46.9 million (6% of total budget).\\n- **Expenditures**: Principal and interest payments for all outstanding general obligation bonds, including $126 million in bonds approved in 2016 and $135 million in bonds approved in 2022.\\n- **IT Improvements**: $1.5 million transfer to the Capital Leasing Fund for critical information technology improvements.\\n\\n### Budget Projections\\n- **FY 24-25 Budget**: Projected to be $21.2 million (2.8%) higher than the FY 23-24 recommended budget.\\n- **Personnel Costs**: Budgeted personnel costs are 10.6% higher than the FY 22-23 revised budget, with an increase of 44.5 full-time equivalent (FTE) positions.\\n\\n### Personnel Changes\\n- **New Positions**: \\n  - **Development Services**: 15 new FTEs across Planning, Engineering & Inspections, Transportation, Fire, and Water Resources.\\n  - **Fire Department**: 5 new FTEs for compliance inspectors.\\n  - **Water Resources**: 4 new FTEs for a sewer maintenance crew and 1 FTE for a laboratory coordinator.\\n  - **Police Department**: 30 FTEs reduced from unfilled patrol positions to support increased compensation.\\n- **Net Impact**: Overall, an increase of 14.5 FTEs compared to the adopted FY 22-23 budget.\\n\\n### Mid-Year Additions and Changes (FY 22-23)\\n- **Guilford Metro 911**: Added 1 Application Analyst and 1 PSIT Supervisor.\\n- **Fire Department**: Added 4 Sr. Fire Inspectors and 1 Deputy Fire Marshall.\\n- **Housing and Neighborhood Development**: Added 1 Code Compliance Supervisor and 1 Neighborhood Impact Manager.\\n- **Parks and Recreation**: Converted a vacant Crew Supervisor position to an Intergovernmental Affairs Manager.\\n- **Greensboro Transit Agency**: Converted 2 Assistant Customer Service positions and 1 Administrative Support Coordinator.\\n- **Information Technology**: Added 1 SQL DBS Administrator.\\n- **Finance Department**: Added 1 Grants Manager.\\n- **Legislative Department**: Added 1 Administrative Support Specialist.\\n- **Coliseum**: Converted 3 part-time security positions to full-time, adding 0.75 FTEs, and converted 1 Parking Attendant from part-time to full-time, adding 0.25 FTEs.\\n- **Tanger Center for the Performing Arts**: Added 1 Parking Coordinator and 1 Call Center Supervisor.\\n- **Water Resources Department**: Added 3 Crew Members and underwent a reorganization adding several supervisory and coordinator positions.\\n- **General Government Service Area**: Implemented a multi-department reorganization, including transfers and additions in the Diversity & Inclusion Office, Executive Department, and the establishment of the Office of Community Safety.\\n\\n### FY 23-24 Service Enhancements\\n- **Development Services**: 15 new FTEs across five departments to support growth in development review and customer service goals.\\n- **Water Resources Department**: Added 1 Crew Supervisor, 4 Crew Members, 1 Heavy Equipment Operator, and 1 Lab Coordinator.\\n\\n### Summary\\nThe FY 23-24 budget reflects significant investments in infrastructure, public safety, and community services, alongside adjustments for inflation and increased operational costs. The budget also includes strategic reallocation and addition of FTEs to support critical areas such as development services, fire inspections, and water resources, while addressing compensation needs in the police department. The overall financial strategy aims to balance growth and sustainability, ensuring the city meets its operational and service delivery goals.', metadata={'id': 'f75af218-2125-48f7-ba37-3e38258c3aa7', 'type': 'text'})]"
      ]
     },
     "execution_count": 66,
     "metadata": {},
     "output_type": "execute_result"
    }
   ],
   "source": [
    "documents"
   ]
  },
  {
   "cell_type": "code",
   "execution_count": null,
   "metadata": {},
   "outputs": [],
   "source": []
  },
  {
   "cell_type": "code",
   "execution_count": 67,
   "metadata": {},
   "outputs": [],
   "source": [
    "def add_docs_to_postgres(collection_name):\n",
    "    vectorstore = PGVector(embeddings=embd,collection_name=collection_name,connection=POSTGRES_URL_EMBEDDINDS,use_jsonb=True,)\n",
    "    vectorstore.add_documents(documents)"
   ]
  },
  {
   "cell_type": "code",
   "execution_count": 68,
   "metadata": {},
   "outputs": [],
   "source": [
    "collection_name=\"fy2024_raptor\"\n",
    "add_docs_to_postgres(collection_name)"
   ]
  },
  {
   "cell_type": "code",
   "execution_count": null,
   "metadata": {},
   "outputs": [],
   "source": []
  }
 ],
 "metadata": {
  "kernelspec": {
   "display_name": "venv",
   "language": "python",
   "name": "python3"
  },
  "language_info": {
   "codemirror_mode": {
    "name": "ipython",
    "version": 3
   },
   "file_extension": ".py",
   "mimetype": "text/x-python",
   "name": "python",
   "nbconvert_exporter": "python",
   "pygments_lexer": "ipython3",
   "version": "3.9.19"
  }
 },
 "nbformat": 4,
 "nbformat_minor": 2
}
